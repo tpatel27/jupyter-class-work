{
 "cells": [
  {
   "cell_type": "markdown",
   "metadata": {},
   "source": [
    "# Data Preparation Basics\n",
    "## Segment 2 - Treating missing values"
   ]
  },
  {
   "cell_type": "code",
   "execution_count": 91,
   "metadata": {},
   "outputs": [],
   "source": [
    "import numpy as np\n",
    "import pandas as pd\n",
    "\n",
    "from pandas import Series, DataFrame"
   ]
  },
  {
   "cell_type": "markdown",
   "metadata": {},
   "source": [
    "### Figuring out what data is missing"
   ]
  },
  {
   "cell_type": "code",
   "execution_count": 92,
   "metadata": {},
   "outputs": [],
   "source": [
    "missing = np.nan"
   ]
  },
  {
   "cell_type": "code",
   "execution_count": 92,
   "metadata": {},
   "outputs": [],
   "source": []
  },
  {
   "cell_type": "markdown",
   "metadata": {},
   "source": [
    "### Filling in for missing values"
   ]
  },
  {
   "cell_type": "code",
   "execution_count": 93,
   "outputs": [
    {
     "data": {
      "text/plain": "          0         1         2         3         4         5\n0  0.870124  0.582277  0.278839  0.185911  0.411100  0.117376\n1  0.684969  0.437611  0.556229  0.367080  0.402366  0.113041\n2  0.447031  0.585445  0.161985  0.520719  0.326051  0.699186\n3  0.366395  0.836375  0.481343  0.516502  0.383048  0.997541\n4  0.514244  0.559053  0.034450  0.719930  0.421004  0.436935\n5  0.281701  0.900274  0.669612  0.456069  0.289804  0.525819",
      "text/html": "<div>\n<style scoped>\n    .dataframe tbody tr th:only-of-type {\n        vertical-align: middle;\n    }\n\n    .dataframe tbody tr th {\n        vertical-align: top;\n    }\n\n    .dataframe thead th {\n        text-align: right;\n    }\n</style>\n<table border=\"1\" class=\"dataframe\">\n  <thead>\n    <tr style=\"text-align: right;\">\n      <th></th>\n      <th>0</th>\n      <th>1</th>\n      <th>2</th>\n      <th>3</th>\n      <th>4</th>\n      <th>5</th>\n    </tr>\n  </thead>\n  <tbody>\n    <tr>\n      <th>0</th>\n      <td>0.870124</td>\n      <td>0.582277</td>\n      <td>0.278839</td>\n      <td>0.185911</td>\n      <td>0.411100</td>\n      <td>0.117376</td>\n    </tr>\n    <tr>\n      <th>1</th>\n      <td>0.684969</td>\n      <td>0.437611</td>\n      <td>0.556229</td>\n      <td>0.367080</td>\n      <td>0.402366</td>\n      <td>0.113041</td>\n    </tr>\n    <tr>\n      <th>2</th>\n      <td>0.447031</td>\n      <td>0.585445</td>\n      <td>0.161985</td>\n      <td>0.520719</td>\n      <td>0.326051</td>\n      <td>0.699186</td>\n    </tr>\n    <tr>\n      <th>3</th>\n      <td>0.366395</td>\n      <td>0.836375</td>\n      <td>0.481343</td>\n      <td>0.516502</td>\n      <td>0.383048</td>\n      <td>0.997541</td>\n    </tr>\n    <tr>\n      <th>4</th>\n      <td>0.514244</td>\n      <td>0.559053</td>\n      <td>0.034450</td>\n      <td>0.719930</td>\n      <td>0.421004</td>\n      <td>0.436935</td>\n    </tr>\n    <tr>\n      <th>5</th>\n      <td>0.281701</td>\n      <td>0.900274</td>\n      <td>0.669612</td>\n      <td>0.456069</td>\n      <td>0.289804</td>\n      <td>0.525819</td>\n    </tr>\n  </tbody>\n</table>\n</div>"
     },
     "execution_count": 93,
     "metadata": {},
     "output_type": "execute_result"
    }
   ],
   "source": [
    "np.random.seed(25)\n",
    "DF_obj = DataFrame(np.random.rand(36).reshape((6,6)))\n",
    "DF_obj"
   ],
   "metadata": {
    "collapsed": false,
    "pycharm": {
     "name": "#%%\n"
    }
   }
  },
  {
   "cell_type": "code",
   "execution_count": 94,
   "metadata": {
    "scrolled": true
   },
   "outputs": [
    {
     "data": {
      "text/plain": "          0         1         2         3         4         5\n0  0.870124  0.582277  0.278839  0.185911  0.411100  0.117376\n1  0.684969  0.437611  0.556229  0.367080  0.402366  0.113041\n2  0.447031  0.585445  0.161985  0.520719  0.326051  0.699186\n3  0.366395  0.836375  0.481343       NaN       NaN       NaN\n4  0.514244  0.559053  0.034450       NaN       NaN       NaN\n5  0.281701  0.900274  0.669612       NaN       NaN       NaN",
      "text/html": "<div>\n<style scoped>\n    .dataframe tbody tr th:only-of-type {\n        vertical-align: middle;\n    }\n\n    .dataframe tbody tr th {\n        vertical-align: top;\n    }\n\n    .dataframe thead th {\n        text-align: right;\n    }\n</style>\n<table border=\"1\" class=\"dataframe\">\n  <thead>\n    <tr style=\"text-align: right;\">\n      <th></th>\n      <th>0</th>\n      <th>1</th>\n      <th>2</th>\n      <th>3</th>\n      <th>4</th>\n      <th>5</th>\n    </tr>\n  </thead>\n  <tbody>\n    <tr>\n      <th>0</th>\n      <td>0.870124</td>\n      <td>0.582277</td>\n      <td>0.278839</td>\n      <td>0.185911</td>\n      <td>0.411100</td>\n      <td>0.117376</td>\n    </tr>\n    <tr>\n      <th>1</th>\n      <td>0.684969</td>\n      <td>0.437611</td>\n      <td>0.556229</td>\n      <td>0.367080</td>\n      <td>0.402366</td>\n      <td>0.113041</td>\n    </tr>\n    <tr>\n      <th>2</th>\n      <td>0.447031</td>\n      <td>0.585445</td>\n      <td>0.161985</td>\n      <td>0.520719</td>\n      <td>0.326051</td>\n      <td>0.699186</td>\n    </tr>\n    <tr>\n      <th>3</th>\n      <td>0.366395</td>\n      <td>0.836375</td>\n      <td>0.481343</td>\n      <td>NaN</td>\n      <td>NaN</td>\n      <td>NaN</td>\n    </tr>\n    <tr>\n      <th>4</th>\n      <td>0.514244</td>\n      <td>0.559053</td>\n      <td>0.034450</td>\n      <td>NaN</td>\n      <td>NaN</td>\n      <td>NaN</td>\n    </tr>\n    <tr>\n      <th>5</th>\n      <td>0.281701</td>\n      <td>0.900274</td>\n      <td>0.669612</td>\n      <td>NaN</td>\n      <td>NaN</td>\n      <td>NaN</td>\n    </tr>\n  </tbody>\n</table>\n</div>"
     },
     "execution_count": 94,
     "metadata": {},
     "output_type": "execute_result"
    }
   ],
   "source": [
    "DF_obj.loc[3:5, 3:5] = missing\n",
    "# DF_obj.isnull()\n",
    "DF_obj"
   ]
  },
  {
   "cell_type": "code",
   "execution_count": 95,
   "metadata": {},
   "outputs": [
    {
     "data": {
      "text/plain": "          0         1         2         3         4         5\n0  0.870124  0.582277  0.278839  0.185911  0.411100  0.117376\n1  0.684969  0.437611  0.556229  0.367080  0.402366  0.113041\n2  0.447031  0.585445  0.161985  0.520719  0.326051  0.699186\n3  0.366395  0.836375  0.481343  0.000000  0.000000  0.000000\n4  0.514244  0.559053  0.034450  0.000000  0.000000  0.000000\n5  0.281701  0.900274  0.669612  0.000000  0.000000  0.000000",
      "text/html": "<div>\n<style scoped>\n    .dataframe tbody tr th:only-of-type {\n        vertical-align: middle;\n    }\n\n    .dataframe tbody tr th {\n        vertical-align: top;\n    }\n\n    .dataframe thead th {\n        text-align: right;\n    }\n</style>\n<table border=\"1\" class=\"dataframe\">\n  <thead>\n    <tr style=\"text-align: right;\">\n      <th></th>\n      <th>0</th>\n      <th>1</th>\n      <th>2</th>\n      <th>3</th>\n      <th>4</th>\n      <th>5</th>\n    </tr>\n  </thead>\n  <tbody>\n    <tr>\n      <th>0</th>\n      <td>0.870124</td>\n      <td>0.582277</td>\n      <td>0.278839</td>\n      <td>0.185911</td>\n      <td>0.411100</td>\n      <td>0.117376</td>\n    </tr>\n    <tr>\n      <th>1</th>\n      <td>0.684969</td>\n      <td>0.437611</td>\n      <td>0.556229</td>\n      <td>0.367080</td>\n      <td>0.402366</td>\n      <td>0.113041</td>\n    </tr>\n    <tr>\n      <th>2</th>\n      <td>0.447031</td>\n      <td>0.585445</td>\n      <td>0.161985</td>\n      <td>0.520719</td>\n      <td>0.326051</td>\n      <td>0.699186</td>\n    </tr>\n    <tr>\n      <th>3</th>\n      <td>0.366395</td>\n      <td>0.836375</td>\n      <td>0.481343</td>\n      <td>0.000000</td>\n      <td>0.000000</td>\n      <td>0.000000</td>\n    </tr>\n    <tr>\n      <th>4</th>\n      <td>0.514244</td>\n      <td>0.559053</td>\n      <td>0.034450</td>\n      <td>0.000000</td>\n      <td>0.000000</td>\n      <td>0.000000</td>\n    </tr>\n    <tr>\n      <th>5</th>\n      <td>0.281701</td>\n      <td>0.900274</td>\n      <td>0.669612</td>\n      <td>0.000000</td>\n      <td>0.000000</td>\n      <td>0.000000</td>\n    </tr>\n  </tbody>\n</table>\n</div>"
     },
     "execution_count": 95,
     "metadata": {},
     "output_type": "execute_result"
    }
   ],
   "source": [
    "#fills 0 to the missing numbers\n",
    "filled_DF = DF_obj.fillna(0)\n",
    "filled_DF"
   ]
  },
  {
   "cell_type": "code",
   "execution_count": 96,
   "metadata": {},
   "outputs": [
    {
     "data": {
      "text/plain": "          0         1         2         3         4           5\n0  0.870124  0.582277  0.278839  0.185911  0.411100    0.117376\n1  0.684969  0.437611  0.556229  0.367080  0.402366    0.113041\n2  0.447031  0.585445  0.161985  0.520719  0.326051    0.699186\n3  0.366395  0.836375  0.481343       NaN       NaN  100.000000\n4  0.514244  0.559053  0.034450       NaN       NaN  100.000000\n5  0.281701  0.900274  0.669612       NaN       NaN  100.000000",
      "text/html": "<div>\n<style scoped>\n    .dataframe tbody tr th:only-of-type {\n        vertical-align: middle;\n    }\n\n    .dataframe tbody tr th {\n        vertical-align: top;\n    }\n\n    .dataframe thead th {\n        text-align: right;\n    }\n</style>\n<table border=\"1\" class=\"dataframe\">\n  <thead>\n    <tr style=\"text-align: right;\">\n      <th></th>\n      <th>0</th>\n      <th>1</th>\n      <th>2</th>\n      <th>3</th>\n      <th>4</th>\n      <th>5</th>\n    </tr>\n  </thead>\n  <tbody>\n    <tr>\n      <th>0</th>\n      <td>0.870124</td>\n      <td>0.582277</td>\n      <td>0.278839</td>\n      <td>0.185911</td>\n      <td>0.411100</td>\n      <td>0.117376</td>\n    </tr>\n    <tr>\n      <th>1</th>\n      <td>0.684969</td>\n      <td>0.437611</td>\n      <td>0.556229</td>\n      <td>0.367080</td>\n      <td>0.402366</td>\n      <td>0.113041</td>\n    </tr>\n    <tr>\n      <th>2</th>\n      <td>0.447031</td>\n      <td>0.585445</td>\n      <td>0.161985</td>\n      <td>0.520719</td>\n      <td>0.326051</td>\n      <td>0.699186</td>\n    </tr>\n    <tr>\n      <th>3</th>\n      <td>0.366395</td>\n      <td>0.836375</td>\n      <td>0.481343</td>\n      <td>NaN</td>\n      <td>NaN</td>\n      <td>100.000000</td>\n    </tr>\n    <tr>\n      <th>4</th>\n      <td>0.514244</td>\n      <td>0.559053</td>\n      <td>0.034450</td>\n      <td>NaN</td>\n      <td>NaN</td>\n      <td>100.000000</td>\n    </tr>\n    <tr>\n      <th>5</th>\n      <td>0.281701</td>\n      <td>0.900274</td>\n      <td>0.669612</td>\n      <td>NaN</td>\n      <td>NaN</td>\n      <td>100.000000</td>\n    </tr>\n  </tbody>\n</table>\n</div>"
     },
     "execution_count": 96,
     "metadata": {},
     "output_type": "execute_result"
    }
   ],
   "source": [
    "#we can fill column and row together\n",
    "filled_DF = DF_obj.fillna({0:7, 5:100})\n",
    "filled_DF"
   ]
  },
  {
   "cell_type": "code",
   "execution_count": 97,
   "metadata": {
    "scrolled": true
   },
   "outputs": [
    {
     "data": {
      "text/plain": "          0         1         2         3         4         5\n0  0.870124  0.582277  0.278839  0.185911  0.411100  0.117376\n1  0.684969  0.437611  0.556229  0.367080  0.402366  0.113041\n2  0.447031  0.585445  0.161985  0.520719  0.326051  0.699186\n3  0.366395  0.836375  0.481343  0.520719  0.326051  0.699186\n4  0.514244  0.559053  0.034450  0.520719  0.326051  0.699186\n5  0.281701  0.900274  0.669612  0.520719  0.326051  0.699186",
      "text/html": "<div>\n<style scoped>\n    .dataframe tbody tr th:only-of-type {\n        vertical-align: middle;\n    }\n\n    .dataframe tbody tr th {\n        vertical-align: top;\n    }\n\n    .dataframe thead th {\n        text-align: right;\n    }\n</style>\n<table border=\"1\" class=\"dataframe\">\n  <thead>\n    <tr style=\"text-align: right;\">\n      <th></th>\n      <th>0</th>\n      <th>1</th>\n      <th>2</th>\n      <th>3</th>\n      <th>4</th>\n      <th>5</th>\n    </tr>\n  </thead>\n  <tbody>\n    <tr>\n      <th>0</th>\n      <td>0.870124</td>\n      <td>0.582277</td>\n      <td>0.278839</td>\n      <td>0.185911</td>\n      <td>0.411100</td>\n      <td>0.117376</td>\n    </tr>\n    <tr>\n      <th>1</th>\n      <td>0.684969</td>\n      <td>0.437611</td>\n      <td>0.556229</td>\n      <td>0.367080</td>\n      <td>0.402366</td>\n      <td>0.113041</td>\n    </tr>\n    <tr>\n      <th>2</th>\n      <td>0.447031</td>\n      <td>0.585445</td>\n      <td>0.161985</td>\n      <td>0.520719</td>\n      <td>0.326051</td>\n      <td>0.699186</td>\n    </tr>\n    <tr>\n      <th>3</th>\n      <td>0.366395</td>\n      <td>0.836375</td>\n      <td>0.481343</td>\n      <td>0.520719</td>\n      <td>0.326051</td>\n      <td>0.699186</td>\n    </tr>\n    <tr>\n      <th>4</th>\n      <td>0.514244</td>\n      <td>0.559053</td>\n      <td>0.034450</td>\n      <td>0.520719</td>\n      <td>0.326051</td>\n      <td>0.699186</td>\n    </tr>\n    <tr>\n      <th>5</th>\n      <td>0.281701</td>\n      <td>0.900274</td>\n      <td>0.669612</td>\n      <td>0.520719</td>\n      <td>0.326051</td>\n      <td>0.699186</td>\n    </tr>\n  </tbody>\n</table>\n</div>"
     },
     "execution_count": 97,
     "metadata": {},
     "output_type": "execute_result"
    }
   ],
   "source": [
    "#fills the missing value with the previous value from row/column\n",
    "filled_DF = DF_obj.fillna(method='ffill')\n",
    "filled_DF"
   ]
  },
  {
   "cell_type": "markdown",
   "metadata": {},
   "source": [
    "### Counting missing values"
   ]
  },
  {
   "cell_type": "code",
   "execution_count": 98,
   "metadata": {},
   "outputs": [
    {
     "data": {
      "text/plain": "0    0\n1    0\n2    0\n3    3\n4    3\n5    3\ndtype: int64"
     },
     "execution_count": 98,
     "metadata": {},
     "output_type": "execute_result"
    }
   ],
   "source": [
    "#counts the total missing values form rows/columns\n",
    "DF_obj.isnull().sum()"
   ]
  },
  {
   "cell_type": "code",
   "execution_count": 98,
   "metadata": {},
   "outputs": [],
   "source": []
  },
  {
   "cell_type": "markdown",
   "metadata": {},
   "source": [
    "### Filtering out missing values"
   ]
  },
  {
   "cell_type": "code",
   "execution_count": 99,
   "metadata": {},
   "outputs": [
    {
     "data": {
      "text/plain": "          0         1         2         3         4         5\n0  0.870124  0.582277  0.278839  0.185911  0.411100  0.117376\n1  0.684969  0.437611  0.556229  0.367080  0.402366  0.113041\n2  0.447031  0.585445  0.161985  0.520719  0.326051  0.699186",
      "text/html": "<div>\n<style scoped>\n    .dataframe tbody tr th:only-of-type {\n        vertical-align: middle;\n    }\n\n    .dataframe tbody tr th {\n        vertical-align: top;\n    }\n\n    .dataframe thead th {\n        text-align: right;\n    }\n</style>\n<table border=\"1\" class=\"dataframe\">\n  <thead>\n    <tr style=\"text-align: right;\">\n      <th></th>\n      <th>0</th>\n      <th>1</th>\n      <th>2</th>\n      <th>3</th>\n      <th>4</th>\n      <th>5</th>\n    </tr>\n  </thead>\n  <tbody>\n    <tr>\n      <th>0</th>\n      <td>0.870124</td>\n      <td>0.582277</td>\n      <td>0.278839</td>\n      <td>0.185911</td>\n      <td>0.411100</td>\n      <td>0.117376</td>\n    </tr>\n    <tr>\n      <th>1</th>\n      <td>0.684969</td>\n      <td>0.437611</td>\n      <td>0.556229</td>\n      <td>0.367080</td>\n      <td>0.402366</td>\n      <td>0.113041</td>\n    </tr>\n    <tr>\n      <th>2</th>\n      <td>0.447031</td>\n      <td>0.585445</td>\n      <td>0.161985</td>\n      <td>0.520719</td>\n      <td>0.326051</td>\n      <td>0.699186</td>\n    </tr>\n  </tbody>\n</table>\n</div>"
     },
     "execution_count": 99,
     "metadata": {},
     "output_type": "execute_result"
    }
   ],
   "source": [
    "#Removes missing values.\n",
    "DF_no_NaN = DF_obj.dropna()\n",
    "DF_no_NaN"
   ]
  },
  {
   "cell_type": "code",
   "execution_count": 100,
   "metadata": {},
   "outputs": [
    {
     "data": {
      "text/plain": "          0         1         2\n0  0.870124  0.582277  0.278839\n1  0.684969  0.437611  0.556229\n2  0.447031  0.585445  0.161985\n3  0.366395  0.836375  0.481343\n4  0.514244  0.559053  0.034450\n5  0.281701  0.900274  0.669612",
      "text/html": "<div>\n<style scoped>\n    .dataframe tbody tr th:only-of-type {\n        vertical-align: middle;\n    }\n\n    .dataframe tbody tr th {\n        vertical-align: top;\n    }\n\n    .dataframe thead th {\n        text-align: right;\n    }\n</style>\n<table border=\"1\" class=\"dataframe\">\n  <thead>\n    <tr style=\"text-align: right;\">\n      <th></th>\n      <th>0</th>\n      <th>1</th>\n      <th>2</th>\n    </tr>\n  </thead>\n  <tbody>\n    <tr>\n      <th>0</th>\n      <td>0.870124</td>\n      <td>0.582277</td>\n      <td>0.278839</td>\n    </tr>\n    <tr>\n      <th>1</th>\n      <td>0.684969</td>\n      <td>0.437611</td>\n      <td>0.556229</td>\n    </tr>\n    <tr>\n      <th>2</th>\n      <td>0.447031</td>\n      <td>0.585445</td>\n      <td>0.161985</td>\n    </tr>\n    <tr>\n      <th>3</th>\n      <td>0.366395</td>\n      <td>0.836375</td>\n      <td>0.481343</td>\n    </tr>\n    <tr>\n      <th>4</th>\n      <td>0.514244</td>\n      <td>0.559053</td>\n      <td>0.034450</td>\n    </tr>\n    <tr>\n      <th>5</th>\n      <td>0.281701</td>\n      <td>0.900274</td>\n      <td>0.669612</td>\n    </tr>\n  </tbody>\n</table>\n</div>"
     },
     "execution_count": 100,
     "metadata": {},
     "output_type": "execute_result"
    }
   ],
   "source": [
    "#Drop rows which contain missing values.\n",
    "DF_no_NaN = DF_obj.dropna(axis=1)\n",
    "DF_no_NaN"
   ]
  }
 ],
 "metadata": {
  "anaconda-cloud": {},
  "kernelspec": {
   "display_name": "Python 3 (ipykernel)",
   "language": "python",
   "name": "python3"
  },
  "language_info": {
   "codemirror_mode": {
    "name": "ipython",
    "version": 3
   },
   "file_extension": ".py",
   "mimetype": "text/x-python",
   "name": "python",
   "nbconvert_exporter": "python",
   "pygments_lexer": "ipython3",
   "version": "3.9.7"
  }
 },
 "nbformat": 4,
 "nbformat_minor": 1
}