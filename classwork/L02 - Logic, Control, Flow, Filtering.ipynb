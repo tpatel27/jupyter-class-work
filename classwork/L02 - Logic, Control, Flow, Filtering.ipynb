{
 "cells": [
  {
   "cell_type": "markdown",
   "metadata": {
    "id": "0bNcFFhxrJaP"
   },
   "source": [
    "# Learning Outcome 2"
   ]
  },
  {
   "cell_type": "markdown",
   "metadata": {
    "id": "3JsoFw1irJaW"
   },
   "source": [
    "# Variables\n",
    "\n",
    "A variable in Python is a name that is attaches to something - a number, a string, or something more complicated like an object or a type.\n",
    "\n",
    "Python is dynamically typed, which means that once a variable is declared it can can hold different types of data over it's lifespan. \n",
    "\n",
    "A variable is declared using the = operator."
   ]
  },
  {
   "cell_type": "code",
   "execution_count": 3,
   "metadata": {
    "colab": {
     "base_uri": "https://localhost:8080/"
    },
    "executionInfo": {
     "elapsed": 443,
     "status": "ok",
     "timestamp": 1610654362603,
     "user": {
      "displayName": "Jared Regel",
      "photoUrl": "https://lh3.googleusercontent.com/a-/AOh14GiZScCCHnuZpY-rzyK0N_gD9cPo25EQI0WpVEd3cg=s64",
      "userId": "00898534667000707157"
     },
     "user_tz": 360
    },
    "id": "LQrZ3viMrJaX",
    "outputId": "fd513950-9b47-40e1-e82d-9bb124c6d635"
   },
   "outputs": [
    {
     "name": "stdout",
     "output_type": "stream",
     "text": [
      "2\n",
      "7\n"
     ]
    }
   ],
   "source": [
    "x = 2\n",
    "\n",
    "print(x)\n",
    "\n",
    "x = x + 5\n",
    "\n",
    "print(x)\n"
   ]
  },
  {
   "cell_type": "markdown",
   "metadata": {
    "id": "fxtaDR0BrJaZ"
   },
   "source": [
    "We can also assign variables with some fancy shortcuts"
   ]
  },
  {
   "cell_type": "code",
   "execution_count": 36,
   "metadata": {
    "colab": {
     "base_uri": "https://localhost:8080/"
    },
    "executionInfo": {
     "elapsed": 340,
     "status": "ok",
     "timestamp": 1610654418929,
     "user": {
      "displayName": "Jared Regel",
      "photoUrl": "https://lh3.googleusercontent.com/a-/AOh14GiZScCCHnuZpY-rzyK0N_gD9cPo25EQI0WpVEd3cg=s64",
      "userId": "00898534667000707157"
     },
     "user_tz": 360
    },
    "id": "-HwDWuMNrJaa",
    "outputId": "ecdf89dc-97bb-47f3-aaa4-496b3be733a9"
   },
   "outputs": [
    {
     "name": "stdout",
     "output_type": "stream",
     "text": [
      "9\n",
      "9\n",
      "9\n",
      "155\n",
      "266\n",
      "266\n",
      "155\n"
     ]
    }
   ],
   "source": [
    "a = b = c = 9\n",
    "\n",
    "\n",
    "print(a)\n",
    "print(b)\n",
    "print(c)\n",
    "\n",
    "x,y = 155,266\n",
    "print(x)\n",
    "print(y)\n",
    "\n",
    "x,y = y,x\n",
    "print(x)\n",
    "print(y)"
   ]
  },
  {
   "cell_type": "markdown",
   "metadata": {
    "id": "-Ed8YQu9rJaa"
   },
   "source": [
    "# Variables In Class Exercise\n",
    "\n",
    "1. Save a copy of your favourite colour in a variable.  Print that variable 10 times.\n",
    "\n",
    "2. Ask your neighbour what their favourite colour is (or just picking another colour works!).  Save it in a variable.  Now you have two variables. Concatenate them together and print the result 100 times\n",
    "\n",
    "3. Use the \"fast swapping (x,y = y,x)\" to swap your colour with your neighbours. Print each variable.  Are you happy with the result?"
   ]
  },
  {
   "cell_type": "code",
   "execution_count": 5,
   "metadata": {
    "id": "ZYjTFrewrJab"
   },
   "outputs": [],
   "source": [
    "#This cell is for preforming the exercise, please submit a screenshot of your code, and it's output.  Name the screenshot variables.jpeg"
   ]
  },
  {
   "cell_type": "markdown",
   "metadata": {
    "id": "d_C_Ctm4rJab"
   },
   "source": [
    "# Functions\n",
    "\n",
    "Python comes with a bunch of built in functions such as..."
   ]
  },
  {
   "cell_type": "code",
   "execution_count": 37,
   "metadata": {
    "colab": {
     "base_uri": "https://localhost:8080/"
    },
    "executionInfo": {
     "elapsed": 388,
     "status": "ok",
     "timestamp": 1610654578010,
     "user": {
      "displayName": "Jared Regel",
      "photoUrl": "https://lh3.googleusercontent.com/a-/AOh14GiZScCCHnuZpY-rzyK0N_gD9cPo25EQI0WpVEd3cg=s64",
      "userId": "00898534667000707157"
     },
     "user_tz": 360
    },
    "id": "b6ioEbldrJac",
    "outputId": "7dcdd3c0-5b3d-4de6-d247-d16835cbfe58"
   },
   "outputs": [
    {
     "data": {
      "text/plain": [
       "1"
      ]
     },
     "execution_count": 37,
     "metadata": {},
     "output_type": "execute_result"
    }
   ],
   "source": [
    "abs(-1)"
   ]
  },
  {
   "cell_type": "code",
   "execution_count": 39,
   "metadata": {
    "colab": {
     "base_uri": "https://localhost:8080/"
    },
    "executionInfo": {
     "elapsed": 477,
     "status": "ok",
     "timestamp": 1610654580209,
     "user": {
      "displayName": "Jared Regel",
      "photoUrl": "https://lh3.googleusercontent.com/a-/AOh14GiZScCCHnuZpY-rzyK0N_gD9cPo25EQI0WpVEd3cg=s64",
      "userId": "00898534667000707157"
     },
     "user_tz": 360
    },
    "id": "-k2DH6oFrJac",
    "outputId": "a36d8f8b-c5b7-4741-9814-1e5eef46373b"
   },
   "outputs": [
    {
     "data": {
      "text/plain": [
       "0"
      ]
     },
     "execution_count": 39,
     "metadata": {},
     "output_type": "execute_result"
    }
   ],
   "source": [
    "8 % 2 #modulo"
   ]
  },
  {
   "cell_type": "code",
   "execution_count": 41,
   "metadata": {
    "colab": {
     "base_uri": "https://localhost:8080/"
    },
    "executionInfo": {
     "elapsed": 695,
     "status": "ok",
     "timestamp": 1610654582781,
     "user": {
      "displayName": "Jared Regel",
      "photoUrl": "https://lh3.googleusercontent.com/a-/AOh14GiZScCCHnuZpY-rzyK0N_gD9cPo25EQI0WpVEd3cg=s64",
      "userId": "00898534667000707157"
     },
     "user_tz": 360
    },
    "id": "hWLWLGH8rJac",
    "outputId": "41edbe3b-c8de-44f3-c183-c0b0c428da0d"
   },
   "outputs": [
    {
     "data": {
      "text/plain": [
       "49"
      ]
     },
     "execution_count": 41,
     "metadata": {},
     "output_type": "execute_result"
    }
   ],
   "source": [
    "7 ** 2"
   ]
  },
  {
   "cell_type": "code",
   "execution_count": 43,
   "metadata": {
    "colab": {
     "base_uri": "https://localhost:8080/"
    },
    "executionInfo": {
     "elapsed": 402,
     "status": "ok",
     "timestamp": 1610654584741,
     "user": {
      "displayName": "Jared Regel",
      "photoUrl": "https://lh3.googleusercontent.com/a-/AOh14GiZScCCHnuZpY-rzyK0N_gD9cPo25EQI0WpVEd3cg=s64",
      "userId": "00898534667000707157"
     },
     "user_tz": 360
    },
    "id": "gzADk1TBrJad",
    "outputId": "78326ff4-6f72-4821-9634-92f006c557b9"
   },
   "outputs": [
    {
     "data": {
      "text/plain": [
       "5"
      ]
     },
     "execution_count": 43,
     "metadata": {},
     "output_type": "execute_result"
    }
   ],
   "source": [
    "min(9,5)"
   ]
  },
  {
   "cell_type": "code",
   "execution_count": 45,
   "metadata": {
    "colab": {
     "base_uri": "https://localhost:8080/"
    },
    "executionInfo": {
     "elapsed": 447,
     "status": "ok",
     "timestamp": 1610654586439,
     "user": {
      "displayName": "Jared Regel",
      "photoUrl": "https://lh3.googleusercontent.com/a-/AOh14GiZScCCHnuZpY-rzyK0N_gD9cPo25EQI0WpVEd3cg=s64",
      "userId": "00898534667000707157"
     },
     "user_tz": 360
    },
    "id": "6Osh-On1rJad",
    "outputId": "aaa02c52-4d51-426a-e01f-ed9b3b7e6088"
   },
   "outputs": [
    {
     "data": {
      "text/plain": [
       "7"
      ]
     },
     "execution_count": 45,
     "metadata": {},
     "output_type": "execute_result"
    }
   ],
   "source": [
    "max(2,7)"
   ]
  },
  {
   "cell_type": "code",
   "execution_count": 46,
   "metadata": {
    "colab": {
     "base_uri": "https://localhost:8080/"
    },
    "executionInfo": {
     "elapsed": 375,
     "status": "ok",
     "timestamp": 1610654587726,
     "user": {
      "displayName": "Jared Regel",
      "photoUrl": "https://lh3.googleusercontent.com/a-/AOh14GiZScCCHnuZpY-rzyK0N_gD9cPo25EQI0WpVEd3cg=s64",
      "userId": "00898534667000707157"
     },
     "user_tz": 360
    },
    "id": "Dsa5qJ0srJad",
    "outputId": "71f2028c-79b6-4150-c3b2-b3f9273d58da"
   },
   "outputs": [
    {
     "data": {
      "text/plain": [
       "21"
      ]
     },
     "execution_count": 46,
     "metadata": {},
     "output_type": "execute_result"
    }
   ],
   "source": [
    "len(\"1234hugigkujggkujhvg5\")"
   ]
  },
  {
   "cell_type": "code",
   "execution_count": 34,
   "metadata": {
    "colab": {
     "base_uri": "https://localhost:8080/"
    },
    "executionInfo": {
     "elapsed": 330,
     "status": "ok",
     "timestamp": 1610654590253,
     "user": {
      "displayName": "Jared Regel",
      "photoUrl": "https://lh3.googleusercontent.com/a-/AOh14GiZScCCHnuZpY-rzyK0N_gD9cPo25EQI0WpVEd3cg=s64",
      "userId": "00898534667000707157"
     },
     "user_tz": 360
    },
    "id": "xR6niqwtrJae",
    "outputId": "b011c765-7431-4438-b8bf-1f6bcec3075f"
   },
   "outputs": [
    {
     "data": {
      "text/plain": [
       "1"
      ]
     },
     "execution_count": 34,
     "metadata": {},
     "output_type": "execute_result"
    }
   ],
   "source": [
    "round(1.2)"
   ]
  },
  {
   "cell_type": "markdown",
   "metadata": {
    "id": "LY3R2nm8rJae"
   },
   "source": [
    "But these functions take memory (so we can't load them all at once!).  We use the import statement to load specific functions/modules."
   ]
  },
  {
   "cell_type": "code",
   "execution_count": 13,
   "metadata": {
    "id": "GmvNH6q3rJae"
   },
   "outputs": [],
   "source": [
    "import os"
   ]
  },
  {
   "cell_type": "markdown",
   "metadata": {
    "id": "zx-4ASWnrJaf"
   },
   "source": [
    "This loads the os module.  A module is used to store a collection of related functions.\n",
    "\n",
    "Lets take a look at what's in os..."
   ]
  },
  {
   "cell_type": "code",
   "execution_count": 14,
   "metadata": {
    "colab": {
     "base_uri": "https://localhost:8080/"
    },
    "executionInfo": {
     "elapsed": 348,
     "status": "ok",
     "timestamp": 1610654632005,
     "user": {
      "displayName": "Jared Regel",
      "photoUrl": "https://lh3.googleusercontent.com/a-/AOh14GiZScCCHnuZpY-rzyK0N_gD9cPo25EQI0WpVEd3cg=s64",
      "userId": "00898534667000707157"
     },
     "user_tz": 360
    },
    "id": "HBrSoVq1rJaf",
    "outputId": "dc533999-a074-46cb-91f4-a3031ec97ef5"
   },
   "outputs": [
    {
     "data": {
      "text/plain": [
       "1"
      ]
     },
     "execution_count": 14,
     "metadata": {},
     "output_type": "execute_result"
    }
   ],
   "source": [
    "round(1.2)"
   ]
  },
  {
   "cell_type": "code",
   "execution_count": 15,
   "metadata": {
    "colab": {
     "base_uri": "https://localhost:8080/"
    },
    "executionInfo": {
     "elapsed": 375,
     "status": "ok",
     "timestamp": 1610654633433,
     "user": {
      "displayName": "Jared Regel",
      "photoUrl": "https://lh3.googleusercontent.com/a-/AOh14GiZScCCHnuZpY-rzyK0N_gD9cPo25EQI0WpVEd3cg=s64",
      "userId": "00898534667000707157"
     },
     "user_tz": 360
    },
    "id": "tULFdme7rJaf",
    "outputId": "6ddbf5fe-7da0-4e43-bf07-039e40b48a81"
   },
   "outputs": [
    {
     "data": {
      "text/plain": [
       "['CLD_CONTINUED',\n",
       " 'CLD_DUMPED',\n",
       " 'CLD_EXITED',\n",
       " 'CLD_KILLED',\n",
       " 'CLD_STOPPED',\n",
       " 'CLD_TRAPPED',\n",
       " 'DirEntry',\n",
       " 'EX_CANTCREAT',\n",
       " 'EX_CONFIG',\n",
       " 'EX_DATAERR',\n",
       " 'EX_IOERR',\n",
       " 'EX_NOHOST',\n",
       " 'EX_NOINPUT',\n",
       " 'EX_NOPERM',\n",
       " 'EX_NOUSER',\n",
       " 'EX_OK',\n",
       " 'EX_OSERR',\n",
       " 'EX_OSFILE',\n",
       " 'EX_PROTOCOL',\n",
       " 'EX_SOFTWARE',\n",
       " 'EX_TEMPFAIL',\n",
       " 'EX_UNAVAILABLE',\n",
       " 'EX_USAGE',\n",
       " 'F_LOCK',\n",
       " 'F_OK',\n",
       " 'F_TEST',\n",
       " 'F_TLOCK',\n",
       " 'F_ULOCK',\n",
       " 'GenericAlias',\n",
       " 'Mapping',\n",
       " 'MutableMapping',\n",
       " 'NGROUPS_MAX',\n",
       " 'O_ACCMODE',\n",
       " 'O_APPEND',\n",
       " 'O_ASYNC',\n",
       " 'O_CLOEXEC',\n",
       " 'O_CREAT',\n",
       " 'O_DIRECTORY',\n",
       " 'O_DSYNC',\n",
       " 'O_EXCL',\n",
       " 'O_EXLOCK',\n",
       " 'O_NDELAY',\n",
       " 'O_NOCTTY',\n",
       " 'O_NOFOLLOW',\n",
       " 'O_NONBLOCK',\n",
       " 'O_RDONLY',\n",
       " 'O_RDWR',\n",
       " 'O_SHLOCK',\n",
       " 'O_SYNC',\n",
       " 'O_TRUNC',\n",
       " 'O_WRONLY',\n",
       " 'POSIX_SPAWN_CLOSE',\n",
       " 'POSIX_SPAWN_DUP2',\n",
       " 'POSIX_SPAWN_OPEN',\n",
       " 'PRIO_PGRP',\n",
       " 'PRIO_PROCESS',\n",
       " 'PRIO_USER',\n",
       " 'P_ALL',\n",
       " 'P_NOWAIT',\n",
       " 'P_NOWAITO',\n",
       " 'P_PGID',\n",
       " 'P_PID',\n",
       " 'P_WAIT',\n",
       " 'PathLike',\n",
       " 'RTLD_GLOBAL',\n",
       " 'RTLD_LAZY',\n",
       " 'RTLD_LOCAL',\n",
       " 'RTLD_NODELETE',\n",
       " 'RTLD_NOLOAD',\n",
       " 'RTLD_NOW',\n",
       " 'R_OK',\n",
       " 'SCHED_FIFO',\n",
       " 'SCHED_OTHER',\n",
       " 'SCHED_RR',\n",
       " 'SEEK_CUR',\n",
       " 'SEEK_DATA',\n",
       " 'SEEK_END',\n",
       " 'SEEK_HOLE',\n",
       " 'SEEK_SET',\n",
       " 'ST_NOSUID',\n",
       " 'ST_RDONLY',\n",
       " 'TMP_MAX',\n",
       " 'WCONTINUED',\n",
       " 'WCOREDUMP',\n",
       " 'WEXITED',\n",
       " 'WEXITSTATUS',\n",
       " 'WIFCONTINUED',\n",
       " 'WIFEXITED',\n",
       " 'WIFSIGNALED',\n",
       " 'WIFSTOPPED',\n",
       " 'WNOHANG',\n",
       " 'WNOWAIT',\n",
       " 'WSTOPPED',\n",
       " 'WSTOPSIG',\n",
       " 'WTERMSIG',\n",
       " 'WUNTRACED',\n",
       " 'W_OK',\n",
       " 'X_OK',\n",
       " '_Environ',\n",
       " '__all__',\n",
       " '__builtins__',\n",
       " '__cached__',\n",
       " '__doc__',\n",
       " '__file__',\n",
       " '__loader__',\n",
       " '__name__',\n",
       " '__package__',\n",
       " '__spec__',\n",
       " '_check_methods',\n",
       " '_execvpe',\n",
       " '_exists',\n",
       " '_exit',\n",
       " '_fspath',\n",
       " '_fwalk',\n",
       " '_get_exports_list',\n",
       " '_spawnvef',\n",
       " '_walk',\n",
       " '_wrap_close',\n",
       " 'abc',\n",
       " 'abort',\n",
       " 'access',\n",
       " 'altsep',\n",
       " 'chdir',\n",
       " 'chflags',\n",
       " 'chmod',\n",
       " 'chown',\n",
       " 'chroot',\n",
       " 'close',\n",
       " 'closerange',\n",
       " 'confstr',\n",
       " 'confstr_names',\n",
       " 'cpu_count',\n",
       " 'ctermid',\n",
       " 'curdir',\n",
       " 'defpath',\n",
       " 'device_encoding',\n",
       " 'devnull',\n",
       " 'dup',\n",
       " 'dup2',\n",
       " 'environ',\n",
       " 'environb',\n",
       " 'error',\n",
       " 'execl',\n",
       " 'execle',\n",
       " 'execlp',\n",
       " 'execlpe',\n",
       " 'execv',\n",
       " 'execve',\n",
       " 'execvp',\n",
       " 'execvpe',\n",
       " 'extsep',\n",
       " 'fchdir',\n",
       " 'fchmod',\n",
       " 'fchown',\n",
       " 'fdopen',\n",
       " 'fork',\n",
       " 'forkpty',\n",
       " 'fpathconf',\n",
       " 'fsdecode',\n",
       " 'fsencode',\n",
       " 'fspath',\n",
       " 'fstat',\n",
       " 'fstatvfs',\n",
       " 'fsync',\n",
       " 'ftruncate',\n",
       " 'fwalk',\n",
       " 'get_blocking',\n",
       " 'get_exec_path',\n",
       " 'get_inheritable',\n",
       " 'get_terminal_size',\n",
       " 'getcwd',\n",
       " 'getcwdb',\n",
       " 'getegid',\n",
       " 'getenv',\n",
       " 'getenvb',\n",
       " 'geteuid',\n",
       " 'getgid',\n",
       " 'getgrouplist',\n",
       " 'getgroups',\n",
       " 'getloadavg',\n",
       " 'getlogin',\n",
       " 'getpgid',\n",
       " 'getpgrp',\n",
       " 'getpid',\n",
       " 'getppid',\n",
       " 'getpriority',\n",
       " 'getsid',\n",
       " 'getuid',\n",
       " 'initgroups',\n",
       " 'isatty',\n",
       " 'kill',\n",
       " 'killpg',\n",
       " 'lchflags',\n",
       " 'lchmod',\n",
       " 'lchown',\n",
       " 'linesep',\n",
       " 'link',\n",
       " 'listdir',\n",
       " 'lockf',\n",
       " 'lseek',\n",
       " 'lstat',\n",
       " 'major',\n",
       " 'makedev',\n",
       " 'makedirs',\n",
       " 'minor',\n",
       " 'mkdir',\n",
       " 'mkfifo',\n",
       " 'mknod',\n",
       " 'name',\n",
       " 'nice',\n",
       " 'open',\n",
       " 'openpty',\n",
       " 'pardir',\n",
       " 'path',\n",
       " 'pathconf',\n",
       " 'pathconf_names',\n",
       " 'pathsep',\n",
       " 'pipe',\n",
       " 'popen',\n",
       " 'posix_spawn',\n",
       " 'posix_spawnp',\n",
       " 'pread',\n",
       " 'preadv',\n",
       " 'putenv',\n",
       " 'pwrite',\n",
       " 'pwritev',\n",
       " 'read',\n",
       " 'readlink',\n",
       " 'readv',\n",
       " 'register_at_fork',\n",
       " 'remove',\n",
       " 'removedirs',\n",
       " 'rename',\n",
       " 'renames',\n",
       " 'replace',\n",
       " 'rmdir',\n",
       " 'scandir',\n",
       " 'sched_get_priority_max',\n",
       " 'sched_get_priority_min',\n",
       " 'sched_yield',\n",
       " 'sendfile',\n",
       " 'sep',\n",
       " 'set_blocking',\n",
       " 'set_inheritable',\n",
       " 'setegid',\n",
       " 'seteuid',\n",
       " 'setgid',\n",
       " 'setgroups',\n",
       " 'setpgid',\n",
       " 'setpgrp',\n",
       " 'setpriority',\n",
       " 'setregid',\n",
       " 'setreuid',\n",
       " 'setsid',\n",
       " 'setuid',\n",
       " 'spawnl',\n",
       " 'spawnle',\n",
       " 'spawnlp',\n",
       " 'spawnlpe',\n",
       " 'spawnv',\n",
       " 'spawnve',\n",
       " 'spawnvp',\n",
       " 'spawnvpe',\n",
       " 'st',\n",
       " 'stat',\n",
       " 'stat_result',\n",
       " 'statvfs',\n",
       " 'statvfs_result',\n",
       " 'strerror',\n",
       " 'supports_bytes_environ',\n",
       " 'supports_dir_fd',\n",
       " 'supports_effective_ids',\n",
       " 'supports_fd',\n",
       " 'supports_follow_symlinks',\n",
       " 'symlink',\n",
       " 'sync',\n",
       " 'sys',\n",
       " 'sysconf',\n",
       " 'sysconf_names',\n",
       " 'system',\n",
       " 'tcgetpgrp',\n",
       " 'tcsetpgrp',\n",
       " 'terminal_size',\n",
       " 'times',\n",
       " 'times_result',\n",
       " 'truncate',\n",
       " 'ttyname',\n",
       " 'umask',\n",
       " 'uname',\n",
       " 'uname_result',\n",
       " 'unlink',\n",
       " 'unsetenv',\n",
       " 'urandom',\n",
       " 'utime',\n",
       " 'wait',\n",
       " 'wait3',\n",
       " 'wait4',\n",
       " 'waitpid',\n",
       " 'waitstatus_to_exitcode',\n",
       " 'walk',\n",
       " 'write',\n",
       " 'writev']"
      ]
     },
     "execution_count": 15,
     "metadata": {},
     "output_type": "execute_result"
    }
   ],
   "source": [
    "dir(os)"
   ]
  },
  {
   "cell_type": "code",
   "execution_count": 16,
   "metadata": {
    "colab": {
     "base_uri": "https://localhost:8080/",
     "height": 35
    },
    "executionInfo": {
     "elapsed": 352,
     "status": "ok",
     "timestamp": 1610654646176,
     "user": {
      "displayName": "Jared Regel",
      "photoUrl": "https://lh3.googleusercontent.com/a-/AOh14GiZScCCHnuZpY-rzyK0N_gD9cPo25EQI0WpVEd3cg=s64",
      "userId": "00898534667000707157"
     },
     "user_tz": 360
    },
    "id": "5WMCz8AMrJag",
    "outputId": "8c0a5d13-6906-4494-b866-d1e8009fae74"
   },
   "outputs": [
    {
     "data": {
      "text/plain": [
       "'posix'"
      ]
     },
     "execution_count": 16,
     "metadata": {},
     "output_type": "execute_result"
    }
   ],
   "source": [
    "os.name #why doesn't this require parentheses?"
   ]
  },
  {
   "cell_type": "code",
   "execution_count": 52,
   "metadata": {
    "colab": {
     "base_uri": "https://localhost:8080/"
    },
    "executionInfo": {
     "elapsed": 342,
     "status": "ok",
     "timestamp": 1610654661319,
     "user": {
      "displayName": "Jared Regel",
      "photoUrl": "https://lh3.googleusercontent.com/a-/AOh14GiZScCCHnuZpY-rzyK0N_gD9cPo25EQI0WpVEd3cg=s64",
      "userId": "00898534667000707157"
     },
     "user_tz": 360
    },
    "id": "LilqIePXrJag",
    "outputId": "14f274e7-ea0d-4929-f918-43144f6b82f8"
   },
   "outputs": [
    {
     "data": {
      "text/plain": "['homework.py',\n 'L02 - Logic, Control, Flow, Filtering.ipynb',\n 'hw2.py',\n '.ipynb_checkpoints',\n 'Macbeth.txt']"
     },
     "execution_count": 52,
     "metadata": {},
     "output_type": "execute_result"
    }
   ],
   "source": [
    "os.listdir()"
   ]
  },
  {
   "cell_type": "markdown",
   "metadata": {
    "id": "u28VEGI8rJag"
   },
   "source": [
    "What if you don't need everything in a module?"
   ]
  },
  {
   "cell_type": "code",
   "execution_count": 55,
   "metadata": {
    "id": "RjpHXskkrJah"
   },
   "outputs": [
    {
     "data": {
      "text/plain": "['__breakpointhook__',\n '__displayhook__',\n '__doc__',\n '__excepthook__',\n '__interactivehook__',\n '__loader__',\n '__name__',\n '__package__',\n '__spec__',\n '__stderr__',\n '__stdin__',\n '__stdout__',\n '__unraisablehook__',\n '_base_executable',\n '_clear_type_cache',\n '_current_frames',\n '_debugmallocstats',\n '_framework',\n '_getframe',\n '_git',\n '_home',\n '_xoptions',\n 'abiflags',\n 'addaudithook',\n 'api_version',\n 'argv',\n 'audit',\n 'base_exec_prefix',\n 'base_prefix',\n 'breakpointhook',\n 'builtin_module_names',\n 'byteorder',\n 'call_tracing',\n 'copyright',\n 'displayhook',\n 'dont_write_bytecode',\n 'exc_info',\n 'excepthook',\n 'exec_prefix',\n 'executable',\n 'exit',\n 'flags',\n 'float_info',\n 'float_repr_style',\n 'get_asyncgen_hooks',\n 'get_coroutine_origin_tracking_depth',\n 'getallocatedblocks',\n 'getdefaultencoding',\n 'getdlopenflags',\n 'getfilesystemencodeerrors',\n 'getfilesystemencoding',\n 'getprofile',\n 'getrecursionlimit',\n 'getrefcount',\n 'getsizeof',\n 'getswitchinterval',\n 'gettrace',\n 'hash_info',\n 'hexversion',\n 'implementation',\n 'int_info',\n 'intern',\n 'is_finalizing',\n 'last_traceback',\n 'last_type',\n 'last_value',\n 'maxsize',\n 'maxunicode',\n 'meta_path',\n 'modules',\n 'path',\n 'path_hooks',\n 'path_importer_cache',\n 'platform',\n 'platlibdir',\n 'prefix',\n 'ps1',\n 'ps2',\n 'ps3',\n 'pycache_prefix',\n 'set_asyncgen_hooks',\n 'set_coroutine_origin_tracking_depth',\n 'setdlopenflags',\n 'setprofile',\n 'setrecursionlimit',\n 'setswitchinterval',\n 'settrace',\n 'stderr',\n 'stdin',\n 'stdout',\n 'thread_info',\n 'unraisablehook',\n 'version',\n 'version_info',\n 'warnoptions']"
     },
     "execution_count": 55,
     "metadata": {},
     "output_type": "execute_result"
    }
   ],
   "source": [
    "import sys\n",
    "dir(sys)"
   ]
  },
  {
   "cell_type": "markdown",
   "metadata": {
    "id": "QSdq_ZIJrJah"
   },
   "source": [
    "Lets talk about two more modules (for now...more on modules later in the class)"
   ]
  },
  {
   "cell_type": "code",
   "execution_count": 19,
   "metadata": {
    "colab": {
     "base_uri": "https://localhost:8080/"
    },
    "executionInfo": {
     "elapsed": 365,
     "status": "ok",
     "timestamp": 1610654844445,
     "user": {
      "displayName": "Jared Regel",
      "photoUrl": "https://lh3.googleusercontent.com/a-/AOh14GiZScCCHnuZpY-rzyK0N_gD9cPo25EQI0WpVEd3cg=s64",
      "userId": "00898534667000707157"
     },
     "user_tz": 360
    },
    "id": "1Mndswo1rJah",
    "outputId": "22f08acf-77ad-4a07-e0f7-5a23b81028ae"
   },
   "outputs": [
    {
     "data": {
      "text/plain": [
       "['__breakpointhook__',\n",
       " '__displayhook__',\n",
       " '__doc__',\n",
       " '__excepthook__',\n",
       " '__interactivehook__',\n",
       " '__loader__',\n",
       " '__name__',\n",
       " '__package__',\n",
       " '__spec__',\n",
       " '__stderr__',\n",
       " '__stdin__',\n",
       " '__stdout__',\n",
       " '__unraisablehook__',\n",
       " '_base_executable',\n",
       " '_clear_type_cache',\n",
       " '_current_frames',\n",
       " '_debugmallocstats',\n",
       " '_framework',\n",
       " '_getframe',\n",
       " '_git',\n",
       " '_home',\n",
       " '_xoptions',\n",
       " 'abiflags',\n",
       " 'addaudithook',\n",
       " 'api_version',\n",
       " 'argv',\n",
       " 'audit',\n",
       " 'base_exec_prefix',\n",
       " 'base_prefix',\n",
       " 'breakpointhook',\n",
       " 'builtin_module_names',\n",
       " 'byteorder',\n",
       " 'call_tracing',\n",
       " 'copyright',\n",
       " 'displayhook',\n",
       " 'dont_write_bytecode',\n",
       " 'exc_info',\n",
       " 'excepthook',\n",
       " 'exec_prefix',\n",
       " 'executable',\n",
       " 'exit',\n",
       " 'flags',\n",
       " 'float_info',\n",
       " 'float_repr_style',\n",
       " 'get_asyncgen_hooks',\n",
       " 'get_coroutine_origin_tracking_depth',\n",
       " 'getallocatedblocks',\n",
       " 'getdefaultencoding',\n",
       " 'getdlopenflags',\n",
       " 'getfilesystemencodeerrors',\n",
       " 'getfilesystemencoding',\n",
       " 'getprofile',\n",
       " 'getrecursionlimit',\n",
       " 'getrefcount',\n",
       " 'getsizeof',\n",
       " 'getswitchinterval',\n",
       " 'gettrace',\n",
       " 'hash_info',\n",
       " 'hexversion',\n",
       " 'implementation',\n",
       " 'int_info',\n",
       " 'intern',\n",
       " 'is_finalizing',\n",
       " 'maxsize',\n",
       " 'maxunicode',\n",
       " 'meta_path',\n",
       " 'modules',\n",
       " 'path',\n",
       " 'path_hooks',\n",
       " 'path_importer_cache',\n",
       " 'platform',\n",
       " 'platlibdir',\n",
       " 'prefix',\n",
       " 'ps1',\n",
       " 'ps2',\n",
       " 'ps3',\n",
       " 'pycache_prefix',\n",
       " 'set_asyncgen_hooks',\n",
       " 'set_coroutine_origin_tracking_depth',\n",
       " 'setdlopenflags',\n",
       " 'setprofile',\n",
       " 'setrecursionlimit',\n",
       " 'setswitchinterval',\n",
       " 'settrace',\n",
       " 'stderr',\n",
       " 'stdin',\n",
       " 'stdout',\n",
       " 'thread_info',\n",
       " 'unraisablehook',\n",
       " 'version',\n",
       " 'version_info',\n",
       " 'warnoptions']"
      ]
     },
     "execution_count": 19,
     "metadata": {},
     "output_type": "execute_result"
    }
   ],
   "source": [
    "import sys\n",
    "dir(sys)"
   ]
  },
  {
   "cell_type": "code",
   "execution_count": 20,
   "metadata": {
    "colab": {
     "base_uri": "https://localhost:8080/"
    },
    "executionInfo": {
     "elapsed": 373,
     "status": "ok",
     "timestamp": 1610654875410,
     "user": {
      "displayName": "Jared Regel",
      "photoUrl": "https://lh3.googleusercontent.com/a-/AOh14GiZScCCHnuZpY-rzyK0N_gD9cPo25EQI0WpVEd3cg=s64",
      "userId": "00898534667000707157"
     },
     "user_tz": 360
    },
    "id": "4K7q2i0brJah",
    "outputId": "c017115a-4156-4b3a-94b9-f3aa95d2ba79"
   },
   "outputs": [
    {
     "data": {
      "text/plain": [
       "['/Users/tejaspatel/.pyenv/versions/3.9.2/lib/python3.9/site-packages/ipykernel_launcher.py',\n",
       " '-f',\n",
       " '/Users/tejaspatel/Library/Jupyter/runtime/kernel-e161b3f0-9a64-404c-86e3-08c7205ca12d.json']"
      ]
     },
     "execution_count": 20,
     "metadata": {},
     "output_type": "execute_result"
    }
   ],
   "source": [
    "sys.argv #this hold the command line arguments"
   ]
  },
  {
   "cell_type": "code",
   "execution_count": 75,
   "metadata": {
    "colab": {
     "base_uri": "https://localhost:8080/"
    },
    "executionInfo": {
     "elapsed": 366,
     "status": "ok",
     "timestamp": 1610654910204,
     "user": {
      "displayName": "Jared Regel",
      "photoUrl": "https://lh3.googleusercontent.com/a-/AOh14GiZScCCHnuZpY-rzyK0N_gD9cPo25EQI0WpVEd3cg=s64",
      "userId": "00898534667000707157"
     },
     "user_tz": 360
    },
    "id": "kNQKj_GKrJai",
    "outputId": "f9f32fe2-16b7-4c14-cbce-c0e45199e579"
   },
   "outputs": [
    {
     "data": {
      "text/plain": "1"
     },
     "execution_count": 75,
     "metadata": {},
     "output_type": "execute_result"
    }
   ],
   "source": [
    "import random\n",
    "random.randint(1,3)"
   ]
  },
  {
   "cell_type": "code",
   "execution_count": 76,
   "metadata": {
    "colab": {
     "base_uri": "https://localhost:8080/"
    },
    "executionInfo": {
     "elapsed": 354,
     "status": "ok",
     "timestamp": 1610654964081,
     "user": {
      "displayName": "Jared Regel",
      "photoUrl": "https://lh3.googleusercontent.com/a-/AOh14GiZScCCHnuZpY-rzyK0N_gD9cPo25EQI0WpVEd3cg=s64",
      "userId": "00898534667000707157"
     },
     "user_tz": 360
    },
    "id": "F7hocDI1rJai",
    "outputId": "8093452e-c3dd-449b-c21e-3df2b3f1f4f5"
   },
   "outputs": [
    {
     "data": {
      "text/plain": "0.7823471199926142"
     },
     "execution_count": 76,
     "metadata": {},
     "output_type": "execute_result"
    }
   ],
   "source": [
    "random.random()"
   ]
  },
  {
   "cell_type": "markdown",
   "metadata": {
    "id": "Vi2erhZ4rJai"
   },
   "source": [
    "# Functions In Class Exercise\n",
    "\n",
    "1. Make a list of your most recent Amazon purchase prices (12.45, 167.34, 34.87, 44.67, 98.76) and store it in a variable.  Use built in functions to find the price of the cheapest and most expensive items in your list.\n",
    "\n",
    "2. Run dir(random).  Find a funtion in random you can use to return a random item from your Amazon list.  You can use help() to find out what different functions do.\n",
    "\n",
    "3.  Write code to randomly select a price from your Amazon list, round to the nearest integer and print the result.\n",
    "\n",
    "4.  Amazon is having a promotion!  They are going to use your last 5 purchase prices (your list defined in step 1) to randomly draw a price.  If the price of the item drawn is less than $20 you get to keep the item and get a refund of the purchase price.  Write the code to draw a random item from your list and the amount that Amazon owes you.\n",
    "\n"
   ]
  },
  {
   "cell_type": "code",
   "execution_count": 23,
   "metadata": {
    "id": "ib3ZmgNgrJaj"
   },
   "outputs": [],
   "source": [
    "# This cell is for completion of In Class Exercises, please submit a screenshot of your code and it's output.  Name the screenshot functions."
   ]
  },
  {
   "cell_type": "markdown",
   "metadata": {
    "id": "Xtyed2AmrJaj"
   },
   "source": [
    "# User Created Functions\n",
    "\n",
    "Functions are defined with a specific syntax:\n",
    "1. Start with the keyword def\n",
    "2. Follow with a function name\n",
    "3. List of arguments enclosed in ()\n",
    "4. End with a colon :\n",
    "\n",
    "Python uses white space to determin code blocks.  Java and C for example use {} to do the same thing.\n",
    "\n",
    "To have output from the function, the return keyword is used."
   ]
  },
  {
   "cell_type": "code",
   "execution_count": 77,
   "metadata": {
    "id": "JapH8ZWXrJak"
   },
   "outputs": [],
   "source": [
    "def first_function(x):\n",
    "  return x*5"
   ]
  },
  {
   "cell_type": "code",
   "execution_count": 80,
   "metadata": {
    "colab": {
     "base_uri": "https://localhost:8080/"
    },
    "executionInfo": {
     "elapsed": 394,
     "status": "ok",
     "timestamp": 1610655181459,
     "user": {
      "displayName": "Jared Regel",
      "photoUrl": "https://lh3.googleusercontent.com/a-/AOh14GiZScCCHnuZpY-rzyK0N_gD9cPo25EQI0WpVEd3cg=s64",
      "userId": "00898534667000707157"
     },
     "user_tz": 360
    },
    "id": "qRFA041brJak",
    "outputId": "4ea45449-2ea7-49a4-86b0-e6e1e1921498"
   },
   "outputs": [
    {
     "data": {
      "text/plain": "50"
     },
     "execution_count": 80,
     "metadata": {},
     "output_type": "execute_result"
    }
   ],
   "source": [
    "first_function(10)"
   ]
  },
  {
   "cell_type": "code",
   "execution_count": 81,
   "metadata": {
    "colab": {
     "base_uri": "https://localhost:8080/",
     "height": 35
    },
    "executionInfo": {
     "elapsed": 589,
     "status": "ok",
     "timestamp": 1610655225843,
     "user": {
      "displayName": "Jared Regel",
      "photoUrl": "https://lh3.googleusercontent.com/a-/AOh14GiZScCCHnuZpY-rzyK0N_gD9cPo25EQI0WpVEd3cg=s64",
      "userId": "00898534667000707157"
     },
     "user_tz": 360
    },
    "id": "RzR1S9K3rJak",
    "outputId": "8c6b6a2d-1b3b-40f8-c903-29ea04062b92"
   },
   "outputs": [
    {
     "data": {
      "text/plain": "'hello world hello world hello world hello world hello world '"
     },
     "execution_count": 81,
     "metadata": {},
     "output_type": "execute_result"
    }
   ],
   "source": [
    "first_function('hello world ')"
   ]
  },
  {
   "cell_type": "markdown",
   "metadata": {
    "id": "1T63wg0hrJal"
   },
   "source": [
    "Lets try it again with a new function..."
   ]
  },
  {
   "cell_type": "code",
   "execution_count": 82,
   "metadata": {
    "id": "1Y9GxRAFrJal"
   },
   "outputs": [],
   "source": [
    "def mult(a, b):\n",
    "    return a*b"
   ]
  },
  {
   "cell_type": "code",
   "execution_count": 83,
   "metadata": {
    "colab": {
     "base_uri": "https://localhost:8080/"
    },
    "executionInfo": {
     "elapsed": 449,
     "status": "ok",
     "timestamp": 1610655266883,
     "user": {
      "displayName": "Jared Regel",
      "photoUrl": "https://lh3.googleusercontent.com/a-/AOh14GiZScCCHnuZpY-rzyK0N_gD9cPo25EQI0WpVEd3cg=s64",
      "userId": "00898534667000707157"
     },
     "user_tz": 360
    },
    "id": "tLvmsXbcrJal",
    "outputId": "31475fd9-bd32-4893-b517-20bd9a939ce9"
   },
   "outputs": [
    {
     "data": {
      "text/plain": "30"
     },
     "execution_count": 83,
     "metadata": {},
     "output_type": "execute_result"
    }
   ],
   "source": [
    "mult(5,6)"
   ]
  },
  {
   "cell_type": "code",
   "execution_count": 84,
   "metadata": {
    "colab": {
     "base_uri": "https://localhost:8080/",
     "height": 163
    },
    "executionInfo": {
     "elapsed": 459,
     "status": "error",
     "timestamp": 1610655269232,
     "user": {
      "displayName": "Jared Regel",
      "photoUrl": "https://lh3.googleusercontent.com/a-/AOh14GiZScCCHnuZpY-rzyK0N_gD9cPo25EQI0WpVEd3cg=s64",
      "userId": "00898534667000707157"
     },
     "user_tz": 360
    },
    "id": "8bv02dXWrJal",
    "outputId": "a3ea831a-df58-4f5d-9f89-0e846ed072c3"
   },
   "outputs": [
    {
     "data": {
      "text/plain": "8"
     },
     "execution_count": 84,
     "metadata": {},
     "output_type": "execute_result"
    }
   ],
   "source": [
    "mult(2, 4)"
   ]
  },
  {
   "cell_type": "code",
   "execution_count": 87,
   "metadata": {
    "colab": {
     "base_uri": "https://localhost:8080/",
     "height": 35
    },
    "executionInfo": {
     "elapsed": 515,
     "status": "ok",
     "timestamp": 1610655276527,
     "user": {
      "displayName": "Jared Regel",
      "photoUrl": "https://lh3.googleusercontent.com/a-/AOh14GiZScCCHnuZpY-rzyK0N_gD9cPo25EQI0WpVEd3cg=s64",
      "userId": "00898534667000707157"
     },
     "user_tz": 360
    },
    "id": "pUaydTmVrJam",
    "outputId": "c8e53d0e-6253-48d3-9c66-7a1319a96501"
   },
   "outputs": [
    {
     "data": {
      "text/plain": "'bbbbb'"
     },
     "execution_count": 87,
     "metadata": {},
     "output_type": "execute_result"
    }
   ],
   "source": [
    "mult(5,'b')"
   ]
  },
  {
   "cell_type": "code",
   "execution_count": null,
   "metadata": {
    "colab": {
     "base_uri": "https://localhost:8080/"
    },
    "executionInfo": {
     "elapsed": 386,
     "status": "ok",
     "timestamp": 1610655283289,
     "user": {
      "displayName": "Jared Regel",
      "photoUrl": "https://lh3.googleusercontent.com/a-/AOh14GiZScCCHnuZpY-rzyK0N_gD9cPo25EQI0WpVEd3cg=s64",
      "userId": "00898534667000707157"
     },
     "user_tz": 360
    },
    "id": "5SoOT762rJam",
    "outputId": "30f31ed7-1fb7-4bf6-910a-37fa192b37b0"
   },
   "outputs": [],
   "source": [
    "mult"
   ]
  },
  {
   "cell_type": "markdown",
   "metadata": {
    "id": "rYsMuR33rJam"
   },
   "source": [
    "Don't forget function names are variables too!"
   ]
  },
  {
   "cell_type": "code",
   "execution_count": 92,
   "metadata": {
    "id": "omvfsBYRrJam"
   },
   "outputs": [],
   "source": [
    "x = mult"
   ]
  },
  {
   "cell_type": "code",
   "execution_count": null,
   "metadata": {
    "colab": {
     "base_uri": "https://localhost:8080/"
    },
    "executionInfo": {
     "elapsed": 414,
     "status": "ok",
     "timestamp": 1610655304873,
     "user": {
      "displayName": "Jared Regel",
      "photoUrl": "https://lh3.googleusercontent.com/a-/AOh14GiZScCCHnuZpY-rzyK0N_gD9cPo25EQI0WpVEd3cg=s64",
      "userId": "00898534667000707157"
     },
     "user_tz": 360
    },
    "id": "7xiWKb4zrJan",
    "outputId": "78d3b93f-9cc6-4b16-d872-1be662de231a"
   },
   "outputs": [],
   "source": [
    "print(x)"
   ]
  },
  {
   "cell_type": "code",
   "execution_count": 91,
   "metadata": {
    "colab": {
     "base_uri": "https://localhost:8080/"
    },
    "executionInfo": {
     "elapsed": 353,
     "status": "ok",
     "timestamp": 1610655309748,
     "user": {
      "displayName": "Jared Regel",
      "photoUrl": "https://lh3.googleusercontent.com/a-/AOh14GiZScCCHnuZpY-rzyK0N_gD9cPo25EQI0WpVEd3cg=s64",
      "userId": "00898534667000707157"
     },
     "user_tz": 360
    },
    "id": "D8pFEQJcrJan",
    "outputId": "8732f457-68cd-4116-bb51-fafa8fc290e2"
   },
   "outputs": [
    {
     "ename": "TypeError",
     "evalue": "'int' object is not callable",
     "output_type": "error",
     "traceback": [
      "\u001B[0;31m---------------------------------------------------------------------------\u001B[0m",
      "\u001B[0;31mTypeError\u001B[0m                                 Traceback (most recent call last)",
      "Input \u001B[0;32mIn [91]\u001B[0m, in \u001B[0;36m<cell line: 1>\u001B[0;34m()\u001B[0m\n\u001B[0;32m----> 1\u001B[0m \u001B[43mx\u001B[49m\u001B[43m(\u001B[49m\u001B[38;5;241;43m2\u001B[39;49m\u001B[43m,\u001B[49m\u001B[38;5;241;43m3\u001B[39;49m\u001B[43m)\u001B[49m\n",
      "\u001B[0;31mTypeError\u001B[0m: 'int' object is not callable"
     ]
    }
   ],
   "source": [
    "x(2,3)"
   ]
  },
  {
   "cell_type": "code",
   "execution_count": 89,
   "metadata": {
    "id": "U0VoYfkVrJan"
   },
   "outputs": [],
   "source": [
    "mult = 7"
   ]
  },
  {
   "cell_type": "code",
   "execution_count": 90,
   "metadata": {
    "colab": {
     "base_uri": "https://localhost:8080/"
    },
    "executionInfo": {
     "elapsed": 385,
     "status": "ok",
     "timestamp": 1610655313961,
     "user": {
      "displayName": "Jared Regel",
      "photoUrl": "https://lh3.googleusercontent.com/a-/AOh14GiZScCCHnuZpY-rzyK0N_gD9cPo25EQI0WpVEd3cg=s64",
      "userId": "00898534667000707157"
     },
     "user_tz": 360
    },
    "id": "sXjmntbBrJao",
    "outputId": "f919a214-64bf-4df2-c076-76eb65d461cb"
   },
   "outputs": [
    {
     "name": "stdout",
     "output_type": "stream",
     "text": [
      "7\n"
     ]
    }
   ],
   "source": [
    "print(7)"
   ]
  },
  {
   "cell_type": "code",
   "execution_count": null,
   "metadata": {
    "colab": {
     "base_uri": "https://localhost:8080/",
     "height": 163
    },
    "executionInfo": {
     "elapsed": 357,
     "status": "error",
     "timestamp": 1610655315521,
     "user": {
      "displayName": "Jared Regel",
      "photoUrl": "https://lh3.googleusercontent.com/a-/AOh14GiZScCCHnuZpY-rzyK0N_gD9cPo25EQI0WpVEd3cg=s64",
      "userId": "00898534667000707157"
     },
     "user_tz": 360
    },
    "id": "hpWSw5yjrJao",
    "outputId": "bfa1e166-19e2-4ec7-be1d-a5715b0f1d50",
    "scrolled": true
   },
   "outputs": [],
   "source": [
    "mult(2,3)"
   ]
  },
  {
   "cell_type": "markdown",
   "metadata": {
    "id": "Q_5n_BsmrJao"
   },
   "source": [
    "# User Created Function In Class Exercise\n",
    "\n",
    "1. Write an all_the_colours function that takes a colour (string) and uses the * operator to print it out 100 times.  What happens when you enter a number into your function?\n",
    "\n",
    "2. Rewrite all_the_colour to take an additional arguement called spacer.  Use the + operator to combine the colour and spacer before multiplying.\n",
    "\n",
    "3. Modify all_the_colours to take an extra argument called num which dicates the number of times the colour and spacer are multiplied together.\n",
    "\n",
    "4. Use the return function inside of all_the_colours to return the output to a variable instead of directly outputing to the screen.  Print the variable."
   ]
  },
  {
   "cell_type": "code",
   "execution_count": null,
   "metadata": {
    "id": "9Sx_iyaXrJap"
   },
   "outputs": [],
   "source": [
    "# This cell is for the User Created Function In Class Exercise, please submit a screenshot of your code and it's output.  Name the screenshot user_created_functions.jpeg"
   ]
  },
  {
   "cell_type": "code",
   "execution_count": null,
   "metadata": {
    "id": "k3TBzksMjNeN"
   },
   "outputs": [],
   "source": []
  },
  {
   "cell_type": "code",
   "execution_count": null,
   "metadata": {
    "id": "cYXThQh4jQcw"
   },
   "outputs": [],
   "source": []
  },
  {
   "cell_type": "code",
   "execution_count": null,
   "metadata": {
    "id": "99Ma3Fv_jQLZ"
   },
   "outputs": [],
   "source": []
  },
  {
   "cell_type": "markdown",
   "metadata": {
    "id": "17qRu0lQrJap"
   },
   "source": [
    "The input function is the quickest way to get data accessed from stdin (user input).  It takes an optional string argument that is the promt to be issued to the user.  It always returns a string."
   ]
  },
  {
   "cell_type": "code",
   "execution_count": null,
   "metadata": {
    "colab": {
     "base_uri": "https://localhost:8080/"
    },
    "executionInfo": {
     "elapsed": 4671,
     "status": "ok",
     "timestamp": 1610655558191,
     "user": {
      "displayName": "Jared Regel",
      "photoUrl": "https://lh3.googleusercontent.com/a-/AOh14GiZScCCHnuZpY-rzyK0N_gD9cPo25EQI0WpVEd3cg=s64",
      "userId": "00898534667000707157"
     },
     "user_tz": 360
    },
    "id": "hJeByfG3rJap",
    "outputId": "7e974e93-2ac8-496d-cae3-d033d5f2b20b"
   },
   "outputs": [],
   "source": [
    "a = input(\"Please enter your name:\")"
   ]
  },
  {
   "cell_type": "code",
   "execution_count": null,
   "metadata": {
    "colab": {
     "base_uri": "https://localhost:8080/"
    },
    "executionInfo": {
     "elapsed": 369,
     "status": "ok",
     "timestamp": 1610655560244,
     "user": {
      "displayName": "Jared Regel",
      "photoUrl": "https://lh3.googleusercontent.com/a-/AOh14GiZScCCHnuZpY-rzyK0N_gD9cPo25EQI0WpVEd3cg=s64",
      "userId": "00898534667000707157"
     },
     "user_tz": 360
    },
    "id": "dpDSa_y6rJaq",
    "outputId": "ab5fd6ed-82d3-4b6b-c98f-4361a7f10edc"
   },
   "outputs": [],
   "source": [
    "print(a)"
   ]
  },
  {
   "cell_type": "markdown",
   "metadata": {
    "id": "HaiG9hykrJas"
   },
   "source": [
    "# Flow Control\n",
    "\n",
    "One of the core building block of software creation/algorithms is flow control.  It tells your program what to do next based on the state it is currently in\n",
    "\n",
    "Let's start with the basic comparators in Python"
   ]
  },
  {
   "cell_type": "code",
   "execution_count": null,
   "metadata": {
    "colab": {
     "base_uri": "https://localhost:8080/"
    },
    "executionInfo": {
     "elapsed": 318,
     "status": "ok",
     "timestamp": 1610655593352,
     "user": {
      "displayName": "Jared Regel",
      "photoUrl": "https://lh3.googleusercontent.com/a-/AOh14GiZScCCHnuZpY-rzyK0N_gD9cPo25EQI0WpVEd3cg=s64",
      "userId": "00898534667000707157"
     },
     "user_tz": 360
    },
    "id": "PoDn01qqrJas",
    "outputId": "4e937d0d-fb2d-4ab6-a2c0-5ff7056523f1"
   },
   "outputs": [],
   "source": [
    "2 < 3"
   ]
  },
  {
   "cell_type": "code",
   "execution_count": null,
   "metadata": {
    "colab": {
     "base_uri": "https://localhost:8080/"
    },
    "executionInfo": {
     "elapsed": 371,
     "status": "ok",
     "timestamp": 1610655595301,
     "user": {
      "displayName": "Jared Regel",
      "photoUrl": "https://lh3.googleusercontent.com/a-/AOh14GiZScCCHnuZpY-rzyK0N_gD9cPo25EQI0WpVEd3cg=s64",
      "userId": "00898534667000707157"
     },
     "user_tz": 360
    },
    "id": "n-XOsn7grJas",
    "outputId": "279dcd87-4fbc-4302-fea8-de0249ffae84"
   },
   "outputs": [],
   "source": [
    "2 > 6"
   ]
  },
  {
   "cell_type": "code",
   "execution_count": null,
   "metadata": {
    "id": "HQETqudarJat"
   },
   "outputs": [],
   "source": [
    "x = 5"
   ]
  },
  {
   "cell_type": "code",
   "execution_count": null,
   "metadata": {
    "colab": {
     "base_uri": "https://localhost:8080/"
    },
    "executionInfo": {
     "elapsed": 372,
     "status": "ok",
     "timestamp": 1610655599619,
     "user": {
      "displayName": "Jared Regel",
      "photoUrl": "https://lh3.googleusercontent.com/a-/AOh14GiZScCCHnuZpY-rzyK0N_gD9cPo25EQI0WpVEd3cg=s64",
      "userId": "00898534667000707157"
     },
     "user_tz": 360
    },
    "id": "YmkzhJdurJat",
    "outputId": "e5e19d18-017f-4cc6-db6f-ebd172f3a550"
   },
   "outputs": [],
   "source": [
    "x == 6"
   ]
  },
  {
   "cell_type": "code",
   "execution_count": null,
   "metadata": {
    "colab": {
     "base_uri": "https://localhost:8080/"
    },
    "executionInfo": {
     "elapsed": 388,
     "status": "ok",
     "timestamp": 1610655604593,
     "user": {
      "displayName": "Jared Regel",
      "photoUrl": "https://lh3.googleusercontent.com/a-/AOh14GiZScCCHnuZpY-rzyK0N_gD9cPo25EQI0WpVEd3cg=s64",
      "userId": "00898534667000707157"
     },
     "user_tz": 360
    },
    "id": "ssx0MvzRrJat",
    "outputId": "26303797-64ea-4b56-9e6d-14571f87bf17"
   },
   "outputs": [],
   "source": [
    "x != 6"
   ]
  },
  {
   "cell_type": "markdown",
   "metadata": {
    "id": "sqWndjkXrJat"
   },
   "source": [
    "# Condition Execution: The If Statement"
   ]
  },
  {
   "cell_type": "code",
   "execution_count": 95,
   "metadata": {
    "id": "BEm9kkljrJau"
   },
   "outputs": [
    {
     "ename": "TypeError",
     "evalue": "not all arguments converted during string formatting",
     "output_type": "error",
     "traceback": [
      "\u001B[0;31m---------------------------------------------------------------------------\u001B[0m",
      "\u001B[0;31mTypeError\u001B[0m                                 Traceback (most recent call last)",
      "Input \u001B[0;32mIn [95]\u001B[0m, in \u001B[0;36m<cell line: 7>\u001B[0;34m()\u001B[0m\n\u001B[1;32m      4\u001B[0m     \u001B[38;5;28;01melse\u001B[39;00m:\n\u001B[1;32m      5\u001B[0m         \u001B[38;5;28mprint\u001B[39m(\u001B[38;5;124m\"\u001B[39m\u001B[38;5;124mI am odd!\u001B[39m\u001B[38;5;124m\"\u001B[39m)\n\u001B[0;32m----> 7\u001B[0m \u001B[43meven\u001B[49m\u001B[43m(\u001B[49m\u001B[38;5;124;43m\"\u001B[39;49m\u001B[38;5;124;43mGoodbye\u001B[39;49m\u001B[38;5;124;43m\"\u001B[39;49m\u001B[43m)\u001B[49m\n",
      "Input \u001B[0;32mIn [95]\u001B[0m, in \u001B[0;36meven\u001B[0;34m(n)\u001B[0m\n\u001B[1;32m      1\u001B[0m \u001B[38;5;28;01mdef\u001B[39;00m \u001B[38;5;21meven\u001B[39m(n):\n\u001B[0;32m----> 2\u001B[0m     \u001B[38;5;28;01mif\u001B[39;00m (\u001B[43mn\u001B[49m\u001B[43m \u001B[49m\u001B[38;5;241;43m%\u001B[39;49m\u001B[43m \u001B[49m\u001B[38;5;241;43m2\u001B[39;49m \u001B[38;5;241m==\u001B[39m \u001B[38;5;241m0\u001B[39m):\n\u001B[1;32m      3\u001B[0m         \u001B[38;5;28mprint\u001B[39m(\u001B[38;5;124m\"\u001B[39m\u001B[38;5;124mI am even!\u001B[39m\u001B[38;5;124m\"\u001B[39m)\n\u001B[1;32m      4\u001B[0m     \u001B[38;5;28;01melse\u001B[39;00m:\n",
      "\u001B[0;31mTypeError\u001B[0m: not all arguments converted during string formatting"
     ]
    }
   ],
   "source": [
    "def even(n):\n",
    "    if (n % 2 == 0):\n",
    "        print(\"I am even!\")\n",
    "    else:\n",
    "        print(\"I am odd!\")\n",
    "\n",
    "even(\"Goodbye\")"
   ]
  },
  {
   "cell_type": "code",
   "execution_count": 93,
   "metadata": {
    "colab": {
     "base_uri": "https://localhost:8080/"
    },
    "executionInfo": {
     "elapsed": 349,
     "status": "ok",
     "timestamp": 1610655754168,
     "user": {
      "displayName": "Jared Regel",
      "photoUrl": "https://lh3.googleusercontent.com/a-/AOh14GiZScCCHnuZpY-rzyK0N_gD9cPo25EQI0WpVEd3cg=s64",
      "userId": "00898534667000707157"
     },
     "user_tz": 360
    },
    "id": "UaJimbrRrJau",
    "outputId": "a87f19bf-456b-4a9b-9090-a82b6a9b7305"
   },
   "outputs": [
    {
     "ename": "NameError",
     "evalue": "name 'even' is not defined",
     "output_type": "error",
     "traceback": [
      "\u001B[0;31m---------------------------------------------------------------------------\u001B[0m",
      "\u001B[0;31mNameError\u001B[0m                                 Traceback (most recent call last)",
      "Input \u001B[0;32mIn [93]\u001B[0m, in \u001B[0;36m<cell line: 1>\u001B[0;34m()\u001B[0m\n\u001B[0;32m----> 1\u001B[0m \u001B[43meven\u001B[49m(\u001B[38;5;241m2\u001B[39m)\n",
      "\u001B[0;31mNameError\u001B[0m: name 'even' is not defined"
     ]
    }
   ],
   "source": [
    "even(2)"
   ]
  },
  {
   "cell_type": "code",
   "execution_count": null,
   "metadata": {
    "colab": {
     "base_uri": "https://localhost:8080/"
    },
    "executionInfo": {
     "elapsed": 357,
     "status": "ok",
     "timestamp": 1610655755886,
     "user": {
      "displayName": "Jared Regel",
      "photoUrl": "https://lh3.googleusercontent.com/a-/AOh14GiZScCCHnuZpY-rzyK0N_gD9cPo25EQI0WpVEd3cg=s64",
      "userId": "00898534667000707157"
     },
     "user_tz": 360
    },
    "id": "d08yvZ96rJau",
    "outputId": "b0a0803f-d060-47b7-b518-f97a9437c126"
   },
   "outputs": [],
   "source": [
    "even(3)"
   ]
  },
  {
   "cell_type": "code",
   "execution_count": null,
   "metadata": {
    "colab": {
     "base_uri": "https://localhost:8080/",
     "height": 282
    },
    "executionInfo": {
     "elapsed": 426,
     "status": "error",
     "timestamp": 1610655760173,
     "user": {
      "displayName": "Jared Regel",
      "photoUrl": "https://lh3.googleusercontent.com/a-/AOh14GiZScCCHnuZpY-rzyK0N_gD9cPo25EQI0WpVEd3cg=s64",
      "userId": "00898534667000707157"
     },
     "user_tz": 360
    },
    "id": "lOXj-4LlrJau",
    "outputId": "ec2c0973-5ccf-4e9f-8291-cf4968a6d806"
   },
   "outputs": [],
   "source": [
    "even(\"Goodbye\")"
   ]
  },
  {
   "cell_type": "markdown",
   "metadata": {
    "id": "TA0WRMhzrJav"
   },
   "source": [
    "How do we handle the uneven case?"
   ]
  },
  {
   "cell_type": "code",
   "execution_count": null,
   "metadata": {
    "id": "9mk_l2wArJav"
   },
   "outputs": [],
   "source": [
    "def even(n):\n",
    "    if type(n) != int:\n",
    "        print(\"Unsupported Type!\")\n",
    "    elif n % 2 == 0:\n",
    "        print(\"I am even!\")\n",
    "    else:\n",
    "        print(\"I am odd!\")"
   ]
  },
  {
   "cell_type": "code",
   "execution_count": null,
   "metadata": {
    "id": "8KCOukkDrJav"
   },
   "outputs": [],
   "source": [
    "even(2)"
   ]
  },
  {
   "cell_type": "code",
   "execution_count": null,
   "metadata": {
    "id": "P6v0IgHRrJav"
   },
   "outputs": [],
   "source": [
    "even(3)"
   ]
  },
  {
   "cell_type": "code",
   "execution_count": null,
   "metadata": {
    "id": "JB6mMiVQrJaw"
   },
   "outputs": [],
   "source": [
    "even(\"Goodbye\")"
   ]
  },
  {
   "cell_type": "markdown",
   "metadata": {
    "id": "z_gfzwzorJaw"
   },
   "source": [
    "# If Statement In Class Exercise\n",
    "\n",
    "1. Write a function that prints \"Success!\" if an arguement matches your favourite color and prints \"Failure!\" if an arguement does not match your favourite colour.\n",
    "\n",
    "2. Add the ability to check the type of the passed in to make sure your are only comparing strings"
   ]
  },
  {
   "cell_type": "code",
   "execution_count": null,
   "metadata": {
    "id": "SjdEG8UhrJaw"
   },
   "outputs": [],
   "source": [
    "#This cell is for the If Statement In Class Exercise.  Save a screenshot of your code and it's output as if.jpeg"
   ]
  },
  {
   "cell_type": "markdown",
   "metadata": {
    "id": "XGpiLvy3rJax"
   },
   "source": [
    "# Loops\n",
    "\n",
    "## The while loop..."
   ]
  },
  {
   "cell_type": "code",
   "execution_count": 96,
   "metadata": {
    "colab": {
     "base_uri": "https://localhost:8080/"
    },
    "executionInfo": {
     "elapsed": 456,
     "status": "ok",
     "timestamp": 1610655824066,
     "user": {
      "displayName": "Jared Regel",
      "photoUrl": "https://lh3.googleusercontent.com/a-/AOh14GiZScCCHnuZpY-rzyK0N_gD9cPo25EQI0WpVEd3cg=s64",
      "userId": "00898534667000707157"
     },
     "user_tz": 360
    },
    "id": "emyRkBWgrJax",
    "outputId": "0e542af9-b6d9-496e-fb84-48dee156ce7e"
   },
   "outputs": [
    {
     "name": "stdout",
     "output_type": "stream",
     "text": [
      "0\n",
      "1\n",
      "2\n",
      "3\n",
      "4\n",
      "5\n",
      "6\n",
      "7\n",
      "8\n",
      "9\n",
      "10\n"
     ]
    }
   ],
   "source": [
    "i = 0\n",
    "\n",
    "while i <= 10:\n",
    "    print(i)\n",
    "    i += 1"
   ]
  },
  {
   "cell_type": "code",
   "execution_count": null,
   "metadata": {
    "colab": {
     "base_uri": "https://localhost:8080/"
    },
    "executionInfo": {
     "elapsed": 445,
     "status": "ok",
     "timestamp": 1611261976839,
     "user": {
      "displayName": "Jared Regel",
      "photoUrl": "https://lh3.googleusercontent.com/a-/AOh14GiZScCCHnuZpY-rzyK0N_gD9cPo25EQI0WpVEd3cg=s64",
      "userId": "00898534667000707157"
     },
     "user_tz": 360
    },
    "id": "oN_3iDrJrUFP",
    "outputId": "b6d27310-0ce0-4ce4-baf2-a5abdb2f7461"
   },
   "outputs": [],
   "source": [
    "i = 0\n",
    "while i < 10:\n",
    "  print('hi' * i)\n",
    "  i+=1"
   ]
  },
  {
   "cell_type": "markdown",
   "metadata": {
    "id": "6IsZkJo8rJax"
   },
   "source": [
    "break and continue...\n",
    "\n",
    "The break command will break out of the smallest while or for loop"
   ]
  },
  {
   "cell_type": "code",
   "execution_count": null,
   "metadata": {
    "colab": {
     "base_uri": "https://localhost:8080/"
    },
    "executionInfo": {
     "elapsed": 358,
     "status": "ok",
     "timestamp": 1610655859828,
     "user": {
      "displayName": "Jared Regel",
      "photoUrl": "https://lh3.googleusercontent.com/a-/AOh14GiZScCCHnuZpY-rzyK0N_gD9cPo25EQI0WpVEd3cg=s64",
      "userId": "00898534667000707157"
     },
     "user_tz": 360
    },
    "id": "GV1U9G9rrJay",
    "outputId": "ae955e2a-deb7-443f-ae75-2ea1998a3f32"
   },
   "outputs": [],
   "source": [
    "i = 0\n",
    "\n",
    "while True:\n",
    "    i += 1\n",
    "    print(i)\n",
    "    if i == 10:\n",
    "        break"
   ]
  },
  {
   "cell_type": "markdown",
   "metadata": {
    "id": "FAzA4SBmrJay"
   },
   "source": [
    "The continue command will halt the current iteration of the loop and continue to the next value"
   ]
  },
  {
   "cell_type": "code",
   "execution_count": null,
   "metadata": {
    "colab": {
     "base_uri": "https://localhost:8080/"
    },
    "executionInfo": {
     "elapsed": 614,
     "status": "ok",
     "timestamp": 1610655892738,
     "user": {
      "displayName": "Jared Regel",
      "photoUrl": "https://lh3.googleusercontent.com/a-/AOh14GiZScCCHnuZpY-rzyK0N_gD9cPo25EQI0WpVEd3cg=s64",
      "userId": "00898534667000707157"
     },
     "user_tz": 360
    },
    "id": "EHbmMVZrrJaz",
    "outputId": "28b519ee-7c7a-4b5f-c511-234f3589353f"
   },
   "outputs": [],
   "source": [
    "i = 0\n",
    "\n",
    "while True:\n",
    "    i += 1\n",
    "    if i % 2 == 0:\n",
    "        print(str(i) + \" is even\")\n",
    "    if i == 100:\n",
    "        break"
   ]
  },
  {
   "cell_type": "markdown",
   "metadata": {
    "id": "VWoAkUQArJaz"
   },
   "source": [
    "The else clause\n",
    "\n",
    "You can have an else statement at the end of a loop.  It will only run if the loop completes normally.  A break will skip it."
   ]
  },
  {
   "cell_type": "code",
   "execution_count": 101,
   "metadata": {
    "colab": {
     "base_uri": "https://localhost:8080/"
    },
    "executionInfo": {
     "elapsed": 424,
     "status": "ok",
     "timestamp": 1610655908561,
     "user": {
      "displayName": "Jared Regel",
      "photoUrl": "https://lh3.googleusercontent.com/a-/AOh14GiZScCCHnuZpY-rzyK0N_gD9cPo25EQI0WpVEd3cg=s64",
      "userId": "00898534667000707157"
     },
     "user_tz": 360
    },
    "id": "JshlJUwwrJaz",
    "outputId": "f00993e2-fa87-4d87-e937-7a8fde9bb01b"
   },
   "outputs": [
    {
     "name": "stdout",
     "output_type": "stream",
     "text": [
      "0\n",
      "1\n",
      "2\n",
      "3\n",
      "4\n",
      "5\n",
      "6\n",
      "7\n",
      "8\n",
      "9\n",
      "the condition has become false\n",
      "Done!\n"
     ]
    }
   ],
   "source": [
    "i = 0\n",
    "\n",
    "while i < 10:\n",
    "    print(i)\n",
    "    i += 1\n",
    "else:\n",
    "    print(\"the condition has become false\")\n",
    "\n",
    "print (\"Done!\")"
   ]
  },
  {
   "cell_type": "code",
   "execution_count": 103,
   "metadata": {
    "colab": {
     "base_uri": "https://localhost:8080/"
    },
    "executionInfo": {
     "elapsed": 398,
     "status": "ok",
     "timestamp": 1610655913949,
     "user": {
      "displayName": "Jared Regel",
      "photoUrl": "https://lh3.googleusercontent.com/a-/AOh14GiZScCCHnuZpY-rzyK0N_gD9cPo25EQI0WpVEd3cg=s64",
      "userId": "00898534667000707157"
     },
     "user_tz": 360
    },
    "id": "9ZAgG_jCrJa0",
    "outputId": "196036e8-8391-44c5-8570-0cc411f311f9"
   },
   "outputs": [
    {
     "name": "stdout",
     "output_type": "stream",
     "text": [
      "0\n",
      "Done!\n"
     ]
    }
   ],
   "source": [
    "i = 0\n",
    "\n",
    "while i < 10:\n",
    "    print(i)\n",
    "    if True:\n",
    "        break\n",
    "    i += 1\n",
    "else:\n",
    "    print(\"the condition has become false\")\n",
    "print (\"Done!\")"
   ]
  },
  {
   "cell_type": "markdown",
   "metadata": {
    "id": "gy1h_fgdrJa0"
   },
   "source": [
    "# While Loop In Class Exercises\n",
    "\n",
    "1. Write a while loop that prints your favourite colour.  Use the * operator and the loop counter to print a corresponding number of colours per line.\n"
   ]
  },
  {
   "cell_type": "code",
   "execution_count": null,
   "metadata": {
    "id": "7ZqcgORwrJa0"
   },
   "outputs": [],
   "source": [
    "#This cell if for while loop in class exercises.  Save your code and output as while.jpeg."
   ]
  },
  {
   "cell_type": "markdown",
   "metadata": {
    "id": "ef453Z4MrJa1"
   },
   "source": [
    "## The For Loop\n",
    "\n",
    "Probably the most used control flow structure in Python.  However, as you will see, it does not behave like a for loop in C or Java"
   ]
  },
  {
   "cell_type": "code",
   "execution_count": null,
   "metadata": {
    "colab": {
     "base_uri": "https://localhost:8080/"
    },
    "executionInfo": {
     "elapsed": 408,
     "status": "ok",
     "timestamp": 1610655963659,
     "user": {
      "displayName": "Jared Regel",
      "photoUrl": "https://lh3.googleusercontent.com/a-/AOh14GiZScCCHnuZpY-rzyK0N_gD9cPo25EQI0WpVEd3cg=s64",
      "userId": "00898534667000707157"
     },
     "user_tz": 360
    },
    "id": "kyJ7eBNFrJa1",
    "outputId": "2f75ed73-e453-438d-e66c-088021b9f30f"
   },
   "outputs": [],
   "source": [
    "for i in [1,2,3,4,5,6,7,8,9,0,'x','y','z']:\n",
    "    print(i)"
   ]
  },
  {
   "cell_type": "code",
   "execution_count": 108,
   "metadata": {
    "colab": {
     "base_uri": "https://localhost:8080/"
    },
    "executionInfo": {
     "elapsed": 438,
     "status": "ok",
     "timestamp": 1610655998728,
     "user": {
      "displayName": "Jared Regel",
      "photoUrl": "https://lh3.googleusercontent.com/a-/AOh14GiZScCCHnuZpY-rzyK0N_gD9cPo25EQI0WpVEd3cg=s64",
      "userId": "00898534667000707157"
     },
     "user_tz": 360
    },
    "id": "XXiMcfI6rJa1",
    "outputId": "373e613c-7fef-4e93-910c-e957124fed60"
   },
   "outputs": [
    {
     "name": "stdout",
     "output_type": "stream",
     "text": [
      "1 <class 'int'>\n",
      "2 <class 'int'>\n",
      "3 <class 'int'>\n",
      "4 <class 'int'>\n",
      "5 <class 'int'>\n",
      "6 <class 'int'>\n",
      "7 <class 'int'>\n",
      "8 <class 'int'>\n",
      "9 <class 'int'>\n",
      "0 <class 'int'>\n",
      "x <class 'str'>\n",
      "y <class 'str'>\n",
      "z <class 'str'>\n",
      "9.9 <class 'float'>\n",
      "88.0 <class 'float'>\n"
     ]
    }
   ],
   "source": [
    "for i in [1,2,3,4,5,6,7,8,9,0,'x','y','z', 9.9,88.00]:\n",
    "    print(i, type(i)) # You can mixed type lists in Python"
   ]
  },
  {
   "cell_type": "code",
   "execution_count": 113,
   "outputs": [
    {
     "name": "stdout",
     "output_type": "stream",
     "text": [
      "0: 1\n",
      "1: 2\n",
      "2: 3\n",
      "3: 4\n",
      "4: 5\n",
      "5: 6\n",
      "6: 7\n",
      "7: 8\n",
      "8: 9\n",
      "9: 0\n",
      "10: x\n",
      "11: y\n",
      "12: z\n",
      "13: 9.9\n",
      "14: 88.0\n"
     ]
    }
   ],
   "source": [
    "\n",
    "for (i, item) in enumerate([1, 2, 3, 4, 5, 6, 7, 8, 9, 0, 'x', 'y', 'z', 9.9, 88.00]):\n",
    "    print(str(i) + \":\", item)"
   ],
   "metadata": {
    "collapsed": false,
    "pycharm": {
     "name": "#%%\n"
    }
   }
  },
  {
   "cell_type": "markdown",
   "metadata": {
    "id": "d7aBdC_7rJa2"
   },
   "source": [
    "# For Loop In Class Exercises\n",
    "1. Write a for loop that prints every character of \"Python is Awesome!\"\n",
    "2. Use the string method 'split' to write a for loop that prints out every word of \"Python is Awesome!\".  Hint: help(str.split)"
   ]
  },
  {
   "cell_type": "code",
   "execution_count": null,
   "metadata": {
    "id": "6r_wQmHptr_m"
   },
   "outputs": [],
   "source": [
    "# This cell is for the loop exercises.  Save your code and your output as for.jpeg"
   ]
  },
  {
   "cell_type": "markdown",
   "metadata": {
    "id": "3vbdzIKJrJa2"
   },
   "source": [
    "## Range - Python's traditional for..."
   ]
  },
  {
   "cell_type": "code",
   "execution_count": 111,
   "metadata": {
    "colab": {
     "base_uri": "https://localhost:8080/"
    },
    "executionInfo": {
     "elapsed": 343,
     "status": "ok",
     "timestamp": 1610656041768,
     "user": {
      "displayName": "Jared Regel",
      "photoUrl": "https://lh3.googleusercontent.com/a-/AOh14GiZScCCHnuZpY-rzyK0N_gD9cPo25EQI0WpVEd3cg=s64",
      "userId": "00898534667000707157"
     },
     "user_tz": 360
    },
    "id": "nWLP-IOdrJa2",
    "outputId": "77ba6f0a-3c60-4454-f577-a9f6784b9d5f"
   },
   "outputs": [
    {
     "name": "stdout",
     "output_type": "stream",
     "text": [
      "range(0, 10)\n"
     ]
    }
   ],
   "source": [
    "print(range(10))"
   ]
  },
  {
   "cell_type": "code",
   "execution_count": 116,
   "metadata": {
    "colab": {
     "base_uri": "https://localhost:8080/"
    },
    "executionInfo": {
     "elapsed": 529,
     "status": "ok",
     "timestamp": 1610656045178,
     "user": {
      "displayName": "Jared Regel",
      "photoUrl": "https://lh3.googleusercontent.com/a-/AOh14GiZScCCHnuZpY-rzyK0N_gD9cPo25EQI0WpVEd3cg=s64",
      "userId": "00898534667000707157"
     },
     "user_tz": 360
    },
    "id": "_C0UuBq1rJa2",
    "outputId": "feee7290-a32e-494a-ca38-289115c1dc2b"
   },
   "outputs": [
    {
     "name": "stdout",
     "output_type": "stream",
     "text": [
      "True\n"
     ]
    }
   ],
   "source": [
    "print(0.1 + 0.2 == 0.30000000000000004)"
   ]
  },
  {
   "cell_type": "code",
   "execution_count": 104,
   "metadata": {
    "colab": {
     "base_uri": "https://localhost:8080/"
    },
    "executionInfo": {
     "elapsed": 356,
     "status": "ok",
     "timestamp": 1610656051364,
     "user": {
      "displayName": "Jared Regel",
      "photoUrl": "https://lh3.googleusercontent.com/a-/AOh14GiZScCCHnuZpY-rzyK0N_gD9cPo25EQI0WpVEd3cg=s64",
      "userId": "00898534667000707157"
     },
     "user_tz": 360
    },
    "id": "JIA6ZiAOrJa3",
    "outputId": "f8949d24-e565-4a7c-c182-71eccc865d37"
   },
   "outputs": [
    {
     "name": "stdout",
     "output_type": "stream",
     "text": [
      "10\n",
      "12\n",
      "14\n",
      "16\n",
      "18\n"
     ]
    }
   ],
   "source": [
    "for i in range(10,20,2):\n",
    "    print(i)"
   ]
  },
  {
   "cell_type": "code",
   "execution_count": null,
   "metadata": {
    "colab": {
     "base_uri": "https://localhost:8080/"
    },
    "executionInfo": {
     "elapsed": 391,
     "status": "ok",
     "timestamp": 1610656058758,
     "user": {
      "displayName": "Jared Regel",
      "photoUrl": "https://lh3.googleusercontent.com/a-/AOh14GiZScCCHnuZpY-rzyK0N_gD9cPo25EQI0WpVEd3cg=s64",
      "userId": "00898534667000707157"
     },
     "user_tz": 360
    },
    "id": "5RQAEnXnrJa3",
    "outputId": "8554a007-cd11-4bb7-aae0-56ed36e68d7f"
   },
   "outputs": [],
   "source": [
    "for i in range(100,0,-5):\n",
    "    print(i)"
   ]
  },
  {
   "cell_type": "markdown",
   "metadata": {
    "id": "mi7IIHg7rJa3"
   },
   "source": [
    "The enumerate function is the prefered way of keeping track of the loop index"
   ]
  },
  {
   "cell_type": "code",
   "execution_count": 30,
   "metadata": {
    "colab": {
     "base_uri": "https://localhost:8080/"
    },
    "executionInfo": {
     "elapsed": 345,
     "status": "ok",
     "timestamp": 1610656123346,
     "user": {
      "displayName": "Jared Regel",
      "photoUrl": "https://lh3.googleusercontent.com/a-/AOh14GiZScCCHnuZpY-rzyK0N_gD9cPo25EQI0WpVEd3cg=s64",
      "userId": "00898534667000707157"
     },
     "user_tz": 360
    },
    "id": "DzoP4MHcrJa3",
    "outputId": "0d350c02-9f05-4e5e-9bab-33f4148a1255",
    "scrolled": false
   },
   "outputs": [
    {
     "name": "stdout",
     "output_type": "stream",
     "text": [
      "Character: T Position: 0\n",
      "Character: h Position: 1\n",
      "Character: i Position: 2\n",
      "Character: s Position: 3\n",
      "Character:   Position: 4\n",
      "Character: i Position: 5\n",
      "Character: s Position: 6\n",
      "Character:   Position: 7\n",
      "Character: a Position: 8\n",
      "Character:   Position: 9\n",
      "Character: t Position: 10\n",
      "Character: e Position: 11\n",
      "Character: s Position: 12\n",
      "Character: t Position: 13\n",
      "Character: i Position: 14\n",
      "Character: n Position: 15\n",
      "Character: g Position: 16\n",
      "Character:   Position: 17\n",
      "Character: s Position: 18\n",
      "Character: t Position: 19\n",
      "Character: r Position: 20\n",
      "Character: i Position: 21\n",
      "Character: n Position: 22\n",
      "Character: g Position: 23\n",
      "Character: ! Position: 24\n"
     ]
    }
   ],
   "source": [
    "x = \"This is a testing string!\"\n",
    "\n",
    "for (i,j) in enumerate(x):\n",
    "    print(\"Character: \"+ j + \" Position: \" + str(i))"
   ]
  },
  {
   "cell_type": "markdown",
   "metadata": {
    "id": "w0l3iyo-rJa4"
   },
   "source": [
    "# Range In Class Exercise\n",
    "\n",
    "1. Use range to write a for loop to print out a numbered grocery list (make up a list of 5 items if necessary)"
   ]
  },
  {
   "cell_type": "code",
   "execution_count": null,
   "metadata": {
    "id": "JtBfiUanrJa4"
   },
   "outputs": [],
   "source": [
    "# Cell for range in class exercise.  Save your code and output as range1.jpeg"
   ]
  },
  {
   "cell_type": "markdown",
   "metadata": {
    "id": "ieRGRck3rJa4"
   },
   "source": [
    "2. Use range to write a for loop that prints out 10 copies of your favourite snack.  How does this compare to using a while loop?"
   ]
  },
  {
   "cell_type": "code",
   "execution_count": null,
   "metadata": {
    "id": "AErbUfHtrJa5"
   },
   "outputs": [],
   "source": [
    "# Cell for range in class exercise.  Save your code and output as range2.jpeg"
   ]
  }
 ],
 "metadata": {
  "colab": {
   "name": "L02 - Logic, Control, Flow, Filtering.ipynb",
   "provenance": []
  },
  "kernelspec": {
   "display_name": "Python 3 (ipykernel)",
   "language": "python",
   "name": "python3"
  },
  "language_info": {
   "codemirror_mode": {
    "name": "ipython",
    "version": 3
   },
   "file_extension": ".py",
   "mimetype": "text/x-python",
   "name": "python",
   "nbconvert_exporter": "python",
   "pygments_lexer": "ipython3",
   "version": "3.9.2"
  }
 },
 "nbformat": 4,
 "nbformat_minor": 1
}