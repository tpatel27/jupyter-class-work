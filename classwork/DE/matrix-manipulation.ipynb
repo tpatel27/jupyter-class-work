{
 "cells": [
  {
   "cell_type": "code",
   "execution_count": null,
   "metadata": {
    "collapsed": true
   },
   "outputs": [],
   "source": []
  },
  {
   "cell_type": "code",
   "execution_count": 1,
   "outputs": [
    {
     "name": "stdout",
     "output_type": "stream",
     "text": [
      "Addition of two matrices: \n",
      "[[ 8 10]\n",
      " [13 15]]\n",
      "Subtraction of two matrices : \n",
      "[[-6 -6]\n",
      " [-5 -5]]\n",
      "Matrix Division : \n",
      "[[0.14285714 0.25      ]\n",
      " [0.44444444 0.5       ]]\n",
      "Multiplication of two matrices: \n",
      "[[ 7 16]\n",
      " [36 50]]\n",
      "The product of two matrices : \n",
      "[[25 28]\n",
      " [73 82]]\n",
      "square root is : \n",
      "[[1.         1.41421356]\n",
      " [2.         2.23606798]]\n",
      "The summation of elements : \n",
      "34\n",
      "The column wise summation  : \n",
      "[16 18]\n",
      "The row wise summation: \n",
      "[15 19]\n",
      "Matrix transposition : \n",
      "[[1 4]\n",
      " [2 5]]\n"
     ]
    }
   ],
   "source": [
    "import numpy\n",
    "# Two matrices are initialized by value\n",
    "x = numpy.array([[1, 2], [4, 5]])\n",
    "y = numpy.array([[7, 8], [9, 10]])\n",
    "#  add()is used to add matrices\n",
    "print (\"Addition of two matrices: \")\n",
    "print (numpy.add(x,y))\n",
    "# subtract()is used to subtract matrices\n",
    "print (\"Subtraction of two matrices : \")\n",
    "print (numpy.subtract(x,y))\n",
    "# divide()is used to divide matrices\n",
    "print (\"Matrix Division : \")\n",
    "print (numpy.divide(x,y))\n",
    "print (\"Multiplication of two matrices: \")\n",
    "print (numpy.multiply(x,y))\n",
    "print (\"The product of two matrices : \")\n",
    "print (numpy.dot(x,y))\n",
    "print (\"square root is : \")\n",
    "print (numpy.sqrt(x))\n",
    "print (\"The summation of elements : \")\n",
    "print (numpy.sum(y))\n",
    "print (\"The column wise summation  : \")\n",
    "print (numpy.sum(y,axis=0))\n",
    "print (\"The row wise summation: \")\n",
    "print (numpy.sum(y,axis=1))\n",
    "# using \"T\" to transpose the matrix\n",
    "print (\"Matrix transposition : \")\n",
    "print (x.T)"
   ],
   "metadata": {
    "collapsed": false,
    "pycharm": {
     "name": "#%%\n"
    }
   }
  },
  {
   "cell_type": "code",
   "execution_count": null,
   "outputs": [],
   "source": [],
   "metadata": {
    "collapsed": false,
    "pycharm": {
     "name": "#%%\n"
    }
   }
  }
 ],
 "metadata": {
  "kernelspec": {
   "display_name": "Python 3",
   "language": "python",
   "name": "python3"
  },
  "language_info": {
   "codemirror_mode": {
    "name": "ipython",
    "version": 2
   },
   "file_extension": ".py",
   "mimetype": "text/x-python",
   "name": "python",
   "nbconvert_exporter": "python",
   "pygments_lexer": "ipython2",
   "version": "2.7.6"
  }
 },
 "nbformat": 4,
 "nbformat_minor": 0
}