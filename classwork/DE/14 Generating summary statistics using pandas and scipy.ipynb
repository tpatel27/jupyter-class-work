{
 "cells": [
  {
   "cell_type": "markdown",
   "metadata": {},
   "source": [
    "# Basic Math and Statistics\n",
    "## Segment 3 - Generating summary statistics using pandas and scipy"
   ]
  },
  {
   "cell_type": "code",
   "execution_count": 31,
   "metadata": {},
   "outputs": [],
   "source": [
    "import numpy as np\n",
    "import pandas as pd\n",
    "from pandas import Series, DataFrame\n",
    "\n",
    "import scipy\n",
    "from scipy import stats"
   ]
  },
  {
   "cell_type": "code",
   "execution_count": 32,
   "metadata": {
    "scrolled": true
   },
   "outputs": [
    {
     "data": {
      "text/plain": "           car_names   mpg  cyl   disp   hp  drat     wt   qsec  vs  am  gear  \\\n0          Mazda RX4  21.0    6  160.0  110  3.90  2.620  16.46   0   1     4   \n1      Mazda RX4 Wag  21.0    6  160.0  110  3.90  2.875  17.02   0   1     4   \n2         Datsun 710  22.8    4  108.0   93  3.85  2.320  18.61   1   1     4   \n3     Hornet 4 Drive  21.4    6  258.0  110  3.08  3.215  19.44   1   0     3   \n4  Hornet Sportabout  18.7    8  360.0  175  3.15  3.440  17.02   0   0     3   \n\n   carb  \n0     4  \n1     4  \n2     1  \n3     1  \n4     2  ",
      "text/html": "<div>\n<style scoped>\n    .dataframe tbody tr th:only-of-type {\n        vertical-align: middle;\n    }\n\n    .dataframe tbody tr th {\n        vertical-align: top;\n    }\n\n    .dataframe thead th {\n        text-align: right;\n    }\n</style>\n<table border=\"1\" class=\"dataframe\">\n  <thead>\n    <tr style=\"text-align: right;\">\n      <th></th>\n      <th>car_names</th>\n      <th>mpg</th>\n      <th>cyl</th>\n      <th>disp</th>\n      <th>hp</th>\n      <th>drat</th>\n      <th>wt</th>\n      <th>qsec</th>\n      <th>vs</th>\n      <th>am</th>\n      <th>gear</th>\n      <th>carb</th>\n    </tr>\n  </thead>\n  <tbody>\n    <tr>\n      <th>0</th>\n      <td>Mazda RX4</td>\n      <td>21.0</td>\n      <td>6</td>\n      <td>160.0</td>\n      <td>110</td>\n      <td>3.90</td>\n      <td>2.620</td>\n      <td>16.46</td>\n      <td>0</td>\n      <td>1</td>\n      <td>4</td>\n      <td>4</td>\n    </tr>\n    <tr>\n      <th>1</th>\n      <td>Mazda RX4 Wag</td>\n      <td>21.0</td>\n      <td>6</td>\n      <td>160.0</td>\n      <td>110</td>\n      <td>3.90</td>\n      <td>2.875</td>\n      <td>17.02</td>\n      <td>0</td>\n      <td>1</td>\n      <td>4</td>\n      <td>4</td>\n    </tr>\n    <tr>\n      <th>2</th>\n      <td>Datsun 710</td>\n      <td>22.8</td>\n      <td>4</td>\n      <td>108.0</td>\n      <td>93</td>\n      <td>3.85</td>\n      <td>2.320</td>\n      <td>18.61</td>\n      <td>1</td>\n      <td>1</td>\n      <td>4</td>\n      <td>1</td>\n    </tr>\n    <tr>\n      <th>3</th>\n      <td>Hornet 4 Drive</td>\n      <td>21.4</td>\n      <td>6</td>\n      <td>258.0</td>\n      <td>110</td>\n      <td>3.08</td>\n      <td>3.215</td>\n      <td>19.44</td>\n      <td>1</td>\n      <td>0</td>\n      <td>3</td>\n      <td>1</td>\n    </tr>\n    <tr>\n      <th>4</th>\n      <td>Hornet Sportabout</td>\n      <td>18.7</td>\n      <td>8</td>\n      <td>360.0</td>\n      <td>175</td>\n      <td>3.15</td>\n      <td>3.440</td>\n      <td>17.02</td>\n      <td>0</td>\n      <td>0</td>\n      <td>3</td>\n      <td>2</td>\n    </tr>\n  </tbody>\n</table>\n</div>"
     },
     "execution_count": 32,
     "metadata": {},
     "output_type": "execute_result"
    }
   ],
   "source": [
    "address = '/Users/tejaspatel/IdeaProjects/class-homework/classwork/data/mtcars.csv'\n",
    "\n",
    "cars = pd.read_csv(address)\n",
    "cars.columns = ['car_names','mpg','cyl','disp', 'hp', 'drat', 'wt', 'qsec', 'vs', 'am', 'gear', 'carb']\n",
    "\n",
    "cars.head()"
   ]
  },
  {
   "cell_type": "markdown",
   "metadata": {},
   "source": [
    "### Looking at summary statistics that decribe a variable's numeric values"
   ]
  },
  {
   "cell_type": "code",
   "execution_count": 33,
   "outputs": [
    {
     "data": {
      "text/plain": "car_names    Mazda RX4Mazda RX4 WagDatsun 710Hornet 4 Drive...\nmpg                                                      642.9\ncyl                                                        198\ndisp                                                    7383.1\nhp                                                        4694\ndrat                                                    115.09\nwt                                                     102.952\nqsec                                                    571.16\nvs                                                          14\nam                                                          13\ngear                                                       118\ncarb                                                        90\ndtype: object"
     },
     "execution_count": 33,
     "metadata": {},
     "output_type": "execute_result"
    }
   ],
   "source": [
    "cars.sum()"
   ],
   "metadata": {
    "collapsed": false,
    "pycharm": {
     "name": "#%%\n"
    }
   }
  },
  {
   "cell_type": "code",
   "execution_count": 34,
   "outputs": [
    {
     "name": "stderr",
     "output_type": "stream",
     "text": [
      "/var/folders/dr/fpl6g34n4gg_jd6dsf_wlw540000gn/T/ipykernel_37908/3703760057.py:1: FutureWarning: Dropping of nuisance columns in DataFrame reductions (with 'numeric_only=None') is deprecated; in a future version this will raise TypeError.  Select only valid columns before calling the reduction.\n",
      "  cars.mean()\n"
     ]
    },
    {
     "data": {
      "text/plain": "mpg      20.090625\ncyl       6.187500\ndisp    230.721875\nhp      146.687500\ndrat      3.596563\nwt        3.217250\nqsec     17.848750\nvs        0.437500\nam        0.406250\ngear      3.687500\ncarb      2.812500\ndtype: float64"
     },
     "execution_count": 34,
     "metadata": {},
     "output_type": "execute_result"
    }
   ],
   "source": [
    "cars.mean()"
   ],
   "metadata": {
    "collapsed": false,
    "pycharm": {
     "name": "#%%\n"
    }
   }
  },
  {
   "cell_type": "code",
   "execution_count": 35,
   "metadata": {},
   "outputs": [
    {
     "name": "stderr",
     "output_type": "stream",
     "text": [
      "/var/folders/dr/fpl6g34n4gg_jd6dsf_wlw540000gn/T/ipykernel_37908/1212480.py:1: FutureWarning: Dropping of nuisance columns in DataFrame reductions (with 'numeric_only=None') is deprecated; in a future version this will raise TypeError.  Select only valid columns before calling the reduction.\n",
      "  cars.median()\n"
     ]
    },
    {
     "data": {
      "text/plain": "mpg      19.200\ncyl       6.000\ndisp    196.300\nhp      123.000\ndrat      3.695\nwt        3.325\nqsec     17.710\nvs        0.000\nam        0.000\ngear      4.000\ncarb      2.000\ndtype: float64"
     },
     "execution_count": 35,
     "metadata": {},
     "output_type": "execute_result"
    }
   ],
   "source": [
    "cars.median()"
   ]
  },
  {
   "cell_type": "code",
   "execution_count": 36,
   "outputs": [
    {
     "data": {
      "text/plain": "car_names    Volvo 142E\nmpg                33.9\ncyl                   8\ndisp              472.0\nhp                  335\ndrat               4.93\nwt                5.424\nqsec               22.9\nvs                    1\nam                    1\ngear                  5\ncarb                  8\ndtype: object"
     },
     "execution_count": 36,
     "metadata": {},
     "output_type": "execute_result"
    }
   ],
   "source": [
    "cars.max()"
   ],
   "metadata": {
    "collapsed": false,
    "pycharm": {
     "name": "#%%\n"
    }
   }
  },
  {
   "cell_type": "code",
   "execution_count": 37,
   "outputs": [
    {
     "data": {
      "text/plain": "car_names    AMC Javelin\nmpg                 10.4\ncyl                    4\ndisp                71.1\nhp                    52\ndrat                2.76\nwt                 1.513\nqsec                14.5\nvs                     0\nam                     0\ngear                   3\ncarb                   1\ndtype: object"
     },
     "execution_count": 37,
     "metadata": {},
     "output_type": "execute_result"
    }
   ],
   "source": [
    "cars.min()"
   ],
   "metadata": {
    "collapsed": false,
    "pycharm": {
     "name": "#%%\n"
    }
   }
  },
  {
   "cell_type": "code",
   "execution_count": 38,
   "metadata": {
    "scrolled": true
   },
   "outputs": [
    {
     "data": {
      "text/plain": "19"
     },
     "execution_count": 38,
     "metadata": {},
     "output_type": "execute_result"
    }
   ],
   "source": [
    "mpg = cars.mpg\n",
    "\n",
    "#more info on idxmax https://www.geeksforgeeks.org/python-pandas-dataframe-idxmax/\n",
    "mpg.idxmax()"
   ]
  },
  {
   "cell_type": "code",
   "execution_count": 39,
   "outputs": [
    {
     "data": {
      "text/plain": "14"
     },
     "execution_count": 39,
     "metadata": {},
     "output_type": "execute_result"
    }
   ],
   "source": [
    "mpg.idxmin()"
   ],
   "metadata": {
    "collapsed": false,
    "pycharm": {
     "name": "#%%\n"
    }
   }
  },
  {
   "cell_type": "code",
   "execution_count": 40,
   "metadata": {},
   "outputs": [
    {
     "name": "stderr",
     "output_type": "stream",
     "text": [
      "/var/folders/dr/fpl6g34n4gg_jd6dsf_wlw540000gn/T/ipykernel_37908/3267404770.py:1: FutureWarning: Dropping of nuisance columns in DataFrame reductions (with 'numeric_only=None') is deprecated; in a future version this will raise TypeError.  Select only valid columns before calling the reduction.\n",
      "  cars.std()\n"
     ]
    },
    {
     "data": {
      "text/plain": "mpg       6.026948\ncyl       1.785922\ndisp    123.938694\nhp       68.562868\ndrat      0.534679\nwt        0.978457\nqsec      1.786943\nvs        0.504016\nam        0.498991\ngear      0.737804\ncarb      1.615200\ndtype: float64"
     },
     "execution_count": 40,
     "metadata": {},
     "output_type": "execute_result"
    }
   ],
   "source": [
    "cars.std()"
   ]
  },
  {
   "cell_type": "code",
   "execution_count": 41,
   "metadata": {},
   "outputs": [
    {
     "name": "stderr",
     "output_type": "stream",
     "text": [
      "/var/folders/dr/fpl6g34n4gg_jd6dsf_wlw540000gn/T/ipykernel_37908/1064479587.py:1: FutureWarning: Dropping of nuisance columns in DataFrame reductions (with 'numeric_only=None') is deprecated; in a future version this will raise TypeError.  Select only valid columns before calling the reduction.\n",
      "  cars.var()\n"
     ]
    },
    {
     "data": {
      "text/plain": "mpg        36.324103\ncyl         3.189516\ndisp    15360.799829\nhp       4700.866935\ndrat        0.285881\nwt          0.957379\nqsec        3.193166\nvs          0.254032\nam          0.248992\ngear        0.544355\ncarb        2.608871\ndtype: float64"
     },
     "execution_count": 41,
     "metadata": {},
     "output_type": "execute_result"
    }
   ],
   "source": [
    "cars.var()"
   ]
  },
  {
   "cell_type": "code",
   "execution_count": 42,
   "metadata": {},
   "outputs": [
    {
     "data": {
      "text/plain": "3    15\n4    12\n5     5\nName: gear, dtype: int64"
     },
     "execution_count": 42,
     "metadata": {},
     "output_type": "execute_result"
    }
   ],
   "source": [
    "gear = cars.gear\n",
    "gear.value_counts()"
   ]
  },
  {
   "cell_type": "code",
   "execution_count": 43,
   "metadata": {},
   "outputs": [
    {
     "data": {
      "text/plain": "             mpg        cyl        disp          hp       drat         wt  \\\ncount  32.000000  32.000000   32.000000   32.000000  32.000000  32.000000   \nmean   20.090625   6.187500  230.721875  146.687500   3.596563   3.217250   \nstd     6.026948   1.785922  123.938694   68.562868   0.534679   0.978457   \nmin    10.400000   4.000000   71.100000   52.000000   2.760000   1.513000   \n25%    15.425000   4.000000  120.825000   96.500000   3.080000   2.581250   \n50%    19.200000   6.000000  196.300000  123.000000   3.695000   3.325000   \n75%    22.800000   8.000000  326.000000  180.000000   3.920000   3.610000   \nmax    33.900000   8.000000  472.000000  335.000000   4.930000   5.424000   \n\n            qsec         vs         am       gear     carb  \ncount  32.000000  32.000000  32.000000  32.000000  32.0000  \nmean   17.848750   0.437500   0.406250   3.687500   2.8125  \nstd     1.786943   0.504016   0.498991   0.737804   1.6152  \nmin    14.500000   0.000000   0.000000   3.000000   1.0000  \n25%    16.892500   0.000000   0.000000   3.000000   2.0000  \n50%    17.710000   0.000000   0.000000   4.000000   2.0000  \n75%    18.900000   1.000000   1.000000   4.000000   4.0000  \nmax    22.900000   1.000000   1.000000   5.000000   8.0000  ",
      "text/html": "<div>\n<style scoped>\n    .dataframe tbody tr th:only-of-type {\n        vertical-align: middle;\n    }\n\n    .dataframe tbody tr th {\n        vertical-align: top;\n    }\n\n    .dataframe thead th {\n        text-align: right;\n    }\n</style>\n<table border=\"1\" class=\"dataframe\">\n  <thead>\n    <tr style=\"text-align: right;\">\n      <th></th>\n      <th>mpg</th>\n      <th>cyl</th>\n      <th>disp</th>\n      <th>hp</th>\n      <th>drat</th>\n      <th>wt</th>\n      <th>qsec</th>\n      <th>vs</th>\n      <th>am</th>\n      <th>gear</th>\n      <th>carb</th>\n    </tr>\n  </thead>\n  <tbody>\n    <tr>\n      <th>count</th>\n      <td>32.000000</td>\n      <td>32.000000</td>\n      <td>32.000000</td>\n      <td>32.000000</td>\n      <td>32.000000</td>\n      <td>32.000000</td>\n      <td>32.000000</td>\n      <td>32.000000</td>\n      <td>32.000000</td>\n      <td>32.000000</td>\n      <td>32.0000</td>\n    </tr>\n    <tr>\n      <th>mean</th>\n      <td>20.090625</td>\n      <td>6.187500</td>\n      <td>230.721875</td>\n      <td>146.687500</td>\n      <td>3.596563</td>\n      <td>3.217250</td>\n      <td>17.848750</td>\n      <td>0.437500</td>\n      <td>0.406250</td>\n      <td>3.687500</td>\n      <td>2.8125</td>\n    </tr>\n    <tr>\n      <th>std</th>\n      <td>6.026948</td>\n      <td>1.785922</td>\n      <td>123.938694</td>\n      <td>68.562868</td>\n      <td>0.534679</td>\n      <td>0.978457</td>\n      <td>1.786943</td>\n      <td>0.504016</td>\n      <td>0.498991</td>\n      <td>0.737804</td>\n      <td>1.6152</td>\n    </tr>\n    <tr>\n      <th>min</th>\n      <td>10.400000</td>\n      <td>4.000000</td>\n      <td>71.100000</td>\n      <td>52.000000</td>\n      <td>2.760000</td>\n      <td>1.513000</td>\n      <td>14.500000</td>\n      <td>0.000000</td>\n      <td>0.000000</td>\n      <td>3.000000</td>\n      <td>1.0000</td>\n    </tr>\n    <tr>\n      <th>25%</th>\n      <td>15.425000</td>\n      <td>4.000000</td>\n      <td>120.825000</td>\n      <td>96.500000</td>\n      <td>3.080000</td>\n      <td>2.581250</td>\n      <td>16.892500</td>\n      <td>0.000000</td>\n      <td>0.000000</td>\n      <td>3.000000</td>\n      <td>2.0000</td>\n    </tr>\n    <tr>\n      <th>50%</th>\n      <td>19.200000</td>\n      <td>6.000000</td>\n      <td>196.300000</td>\n      <td>123.000000</td>\n      <td>3.695000</td>\n      <td>3.325000</td>\n      <td>17.710000</td>\n      <td>0.000000</td>\n      <td>0.000000</td>\n      <td>4.000000</td>\n      <td>2.0000</td>\n    </tr>\n    <tr>\n      <th>75%</th>\n      <td>22.800000</td>\n      <td>8.000000</td>\n      <td>326.000000</td>\n      <td>180.000000</td>\n      <td>3.920000</td>\n      <td>3.610000</td>\n      <td>18.900000</td>\n      <td>1.000000</td>\n      <td>1.000000</td>\n      <td>4.000000</td>\n      <td>4.0000</td>\n    </tr>\n    <tr>\n      <th>max</th>\n      <td>33.900000</td>\n      <td>8.000000</td>\n      <td>472.000000</td>\n      <td>335.000000</td>\n      <td>4.930000</td>\n      <td>5.424000</td>\n      <td>22.900000</td>\n      <td>1.000000</td>\n      <td>1.000000</td>\n      <td>5.000000</td>\n      <td>8.0000</td>\n    </tr>\n  </tbody>\n</table>\n</div>"
     },
     "execution_count": 43,
     "metadata": {},
     "output_type": "execute_result"
    }
   ],
   "source": [
    "cars.describe()"
   ]
  },
  {
   "cell_type": "markdown",
   "metadata": {},
   "source": [
    "### Looking at summary statistics that describe variable distribution"
   ]
  },
  {
   "cell_type": "code",
   "execution_count": 43,
   "metadata": {},
   "outputs": [],
   "source": []
  },
  {
   "cell_type": "code",
   "execution_count": 43,
   "metadata": {},
   "outputs": [],
   "source": []
  },
  {
   "cell_type": "code",
   "execution_count": 43,
   "metadata": {},
   "outputs": [],
   "source": []
  },
  {
   "cell_type": "code",
   "execution_count": 43,
   "outputs": [],
   "source": [],
   "metadata": {
    "collapsed": false,
    "pycharm": {
     "name": "#%%\n"
    }
   }
  }
 ],
 "metadata": {
  "anaconda-cloud": {},
  "kernelspec": {
   "display_name": "Python 3 (ipykernel)",
   "language": "python",
   "name": "python3"
  },
  "language_info": {
   "codemirror_mode": {
    "name": "ipython",
    "version": 3
   },
   "file_extension": ".py",
   "mimetype": "text/x-python",
   "name": "python",
   "nbconvert_exporter": "python",
   "pygments_lexer": "ipython3",
   "version": "3.9.7"
  }
 },
 "nbformat": 4,
 "nbformat_minor": 1
}